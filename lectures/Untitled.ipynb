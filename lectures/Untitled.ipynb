{
 "cells": [
  {
   "cell_type": "markdown",
   "metadata": {},
   "source": [
    "ECE 424: Advanced Synthetic Biology: Introduction\n",
    "===\n",
    "\n",
    "Prof. Eric Klavins\n",
    "\n",
    "&copy; 2019, University of Washington"
   ]
  },
  {
   "cell_type": "markdown",
   "metadata": {},
   "source": [
    "**Course Description**: An overview of advanced computational, analytical, and design methods in synthetic biology. This course is a deep dive into selected topics rather than a broad overview. Specific topics include:\n",
    "- Python\n",
    "- Protein modeling and design\n",
    "- Nucleic acid design\n",
    "- High throughput assay design and analysis\n",
    "- Neural networks for analysis and design\n",
    "- Library design (DNA, Protein, Yeast)\n",
    "- The use of next generation sequencing in synthetic biology\n",
    "- Design and analysis of gene regulatory networks\n",
    "- Laboratory Automation\n",
    "- Ethics and risks of synthetic biology\n",
    "\n",
    "**Format**: Weekly readings and Python programming assignments. In class discussion. \n",
    "\n",
    "**Office Hours**: In NanoES 394. Times TBA.\n",
    "\n",
    "**Note:** <b><span style=\"color: orange\">No class April 4</span></b>\n",
    "\n",
    "**Assumed Background**: Introduction to synthetic biology course or similar. "
   ]
  },
  {
   "cell_type": "markdown",
   "metadata": {},
   "source": [
    "Overview of Topics\n",
    "==="
   ]
  },
  {
   "cell_type": "markdown",
   "metadata": {},
   "source": [
    "Protein Modeling and Design\n",
    "---\n",
    "\n",
    "Protein Stability\n",
    "---\n",
    "\n",
    "DNA Library Synthesis\n",
    "---\n",
    "\n",
    "Next Generation Sequencing\n",
    "---\n",
    "\n",
    "Nucleic Acid Design\n",
    "---\n",
    "\n",
    "Gene Regulatory Network Design and Analysis\n",
    "---\n",
    "\n",
    "Laboratory Automation\n",
    "---\n",
    "\n",
    "Ethics and Risks\n",
    "---"
   ]
  }
 ],
 "metadata": {
  "kernelspec": {
   "display_name": "Python 3",
   "language": "python",
   "name": "python3"
  },
  "language_info": {
   "codemirror_mode": {
    "name": "ipython",
    "version": 3
   },
   "file_extension": ".py",
   "mimetype": "text/x-python",
   "name": "python",
   "nbconvert_exporter": "python",
   "pygments_lexer": "ipython3",
   "version": "3.6.1"
  }
 },
 "nbformat": 4,
 "nbformat_minor": 2
}
