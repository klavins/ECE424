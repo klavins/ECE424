{
 "cells": [
  {
   "cell_type": "markdown",
   "metadata": {},
   "source": [
    "ECE 424/523: Chemical Reaction Networks\n",
    "===\n",
    "\n",
    "Prof. Eric Klavins\n",
    "\n",
    "&copy; 2019, University of Washington"
   ]
  },
  {
   "cell_type": "code",
   "execution_count": 1,
   "metadata": {
    "collapsed": true
   },
   "outputs": [],
   "source": [
    "import numpy as np\n",
    "import scipy.integrate as spi\n",
    "import matplotlib.pyplot as plt\n",
    "from sympy import *\n",
    "\n",
    "%matplotlib inline\n",
    "\n",
    "# Comment out in Google colab \n",
    "init_printing(use_latex='mathjax')\n",
    "\n",
    "# Uncomment in below Google colab to render sympy equations nicely\n",
    "# def custom_latex_printer(exp,**options):\n",
    "#     from google.colab.output._publish import javascript\n",
    "#     url = \"https://cdnjs.cloudflare.com/ajax/libs/mathjax/2.7.3/latest.js?config=default\"\n",
    "#     javascript(url=url)\n",
    "#     return printing.latex(exp,**options)\n",
    "# init_printing(use_latex=\"mathjax\",latex_printer=custom_latex_printer)"
   ]
  },
  {
   "cell_type": "markdown",
   "metadata": {},
   "source": [
    "Reactions\n",
    "===\n",
    "\n",
    "A reaction has the form\n",
    "\n",
    "$$\n",
    "\\underbrace{n_1 X_1 + ... + n_N X_N}_\\mathrm{reactants}\n",
    "  \\rightharpoonup \\underbrace{m_1 X_1 + ... + m_N X_N}_\\mathrm{products} \n",
    "$$\n",
    "\n",
    "where the $X_i$ are chemical species names. In this reaction $n_i$ molecules of species $X_i$ are consumed, and $m_i$ are produced. The $n_i$ and $m_i$ have to be non-negative integers, and may be zero.\n",
    "\n",
    "A reaction can be\n",
    "written more conveniently as a vector\n",
    "\n",
    "$$\n",
    "a = -\n",
    "\\begin{pmatrix}\n",
    "n_1 \\\\\n",
    "\\vdots \\\\\n",
    "n_N\n",
    "\\end{pmatrix} + \n",
    "\\begin{pmatrix}\n",
    "m_1 \\\\\n",
    "\\vdots \\\\\n",
    "m_N\n",
    "\\end{pmatrix} = -a_R + a_P \\in \\mathbb{N}^N, \n",
    "$$\n",
    "\n",
    "where $a_R$ is the vector of reactant numbers and $a_P$ is the vector\n",
    "of product numbers. The vector $a$ is called the *stoichiometry* of the reaction.\n",
    "\n",
    "Example\n",
    "---\n",
    "\n",
    "Suppose we have three species $X$, $Y$ and $Z$. The single reaction \n",
    "\n",
    "$$\n",
    "X + Y \\rightharpoonup Z\n",
    "$$\n",
    "\n",
    "can be written as a vector\n",
    "\n",
    "$$\n",
    "a = \\begin{pmatrix}\n",
    "-1 \\\\ -1 \\\\ 1\n",
    "\\end{pmatrix}\n",
    "$$\n",
    "\n",
    "as long as we remember that the species are always ordered as we\n",
    "presented them above.\n",
    "\n",
    "A system inside the cell, consisting of a number of species and the\n",
    "reactions among them is modeled a *reaction network*, which is\n",
    "simply a set of reactions. The nodes of the network are *\n",
    "  complexes* (e.g. $X+Y$ and $Z$ in the previous example) and the\n",
    "edges are the reaction arrows. Furthermore, the reaction vectors\n",
    "associated with the reactions in a network can be grouped into a\n",
    "matrix $A$ called the *stiochiometric matrix*.\n",
    "\n",
    "Example\n",
    "---\n",
    "\n",
    "The reactions \n",
    "\\begin{eqnarray}\n",
    "X + Y & \\rightharpoonup & Z \\\\\n",
    "2Z & \\rightharpoonup & X\n",
    "\\end{eqnarray}\n",
    "\n",
    "form a reaction network with stiochiometric matrix\n",
    "\n",
    "$$\n",
    "A = \\left ( \\begin{array}{cc}\n",
    "-1 & 1 \\\\\n",
    "-1 & 0 \\\\\n",
    "1 & -2\n",
    "\\end{array} \\right ).\n",
    "$$\n",
    "\n"
   ]
  },
  {
   "cell_type": "markdown",
   "metadata": {},
   "source": [
    "Kinetics\n",
    "===\n",
    "\n",
    "In a system of reacting chemicals, the state at a particular time is\n",
    "described by the *concentrations* of each species, usually\n",
    "arranged into another vector. If $X_i$ is a species, then we write\n",
    "$v_{X_i}(t)$ or just $v_i(t)$ to represent the number of molecules of\n",
    "species $X_i$ per unit volume at time $t$. Then we group the\n",
    "concentrations into a vector\n",
    "\n",
    "$$\n",
    "v = \\begin{pmatrix}\n",
    "v_1 \\\\\n",
    "\\vdots \\\\\n",
    "v_n\n",
    "\\end{pmatrix} \\in \\mathbb{P}^N.\n",
    "$$\n",
    "\n",
    "Associated with each reaction $a$ is a *reaction rate*, which is a function that takes $N$ non-negative real numbers to a non-negative real number. It is the *rate$ of the reaction $a$.\n",
    "\n",
    "$$\n",
    "K_a : \\mathbb{P}^N \\rightarrow \\mathbb{P}\n",
    "$$\n",
    "\n",
    "that depends on the concentrations. If $K_a(v) > 0$ then every\n",
    "reactant in $a$ has nonzero concentration in the state $v$. Reaction\n",
    "rates, when noted, are usually written above the reaction arrows in a\n",
    "specification of the reaction. A *kinetics* for a network is such\n",
    "an assignment of a rate to each reaction $a$. These rates may be\n",
    "grouped into a vector $K(v)$ that depends on $v$:\n",
    "\n",
    "$$\n",
    "K(v) = \\begin{pmatrix}\n",
    "K_{a_1}(v) \\\\\n",
    "\\vdots \\\\\n",
    "K_{a_M}(v)\n",
    "\\end{pmatrix},\n",
    "$$\n",
    "\n",
    "where we have numbered the reactions from $1$ to $M$.\n",
    "\n",
    "The usual assumption is that the kinetics obey the **law of mass\n",
    "  action**, although they need not. In later chapters we will allow\n",
    "the rates to be defined in other ways. For now, however, we stick with\n",
    "the following definition of the rates. \n",
    "\n",
    "\n",
    "**Definition**: Suppose that $a$ is defined as above. Then the\n",
    "*mass action rate* for the reaction $a$ is defined by\n",
    "\n",
    "$$\n",
    "K_a(v) \\triangleq k_a \\prod_{i}v_i^{n_i}\n",
    "$$\n",
    "\n",
    "where $k_a > 0$ is called the rate constant for the reaction\n",
    "$a$. Note that the exponent depends on the number of $X_i$ consumed by the reaction, but not produced. \n",
    "\n",
    "The idea the following. Suppose that an $X$ molecule reacts with\n",
    "a $Y$ molecule according to the reaction\n",
    "\n",
    "$$\n",
    "X + Y \\xrightarrow[\\text{}]{\\text{$k$}} Z\n",
    "$$\n",
    "\n",
    "If there are $v_X$ molecules of type $X$ per liter and $v_Y$ molecules\n",
    "of type $Y$ per liter, then the number of possible reactions that can\n",
    "occur per liter is $v_X v_Y$. Since some types of reactions may be\n",
    "stronger or faster than others, we add a rate constant $k$ to our\n",
    "model to obtain $kv_Xv_Y$. When the rate constant is important, we\n",
    "make a note of it by writing it, as above, near the arrow used to\n",
    "specify the reaction.  The definition is a\n",
    "generalization of the idea of having the rate of a reaction include a\n",
    "term that describes the number of ways that a reaction can happen: the\n",
    "rate is proportional to the current concentrations, or masses, of the\n",
    "reactants.\n",
    "\n",
    "Example\n",
    "---\n",
    "\n",
    "The reaction rates for the reactions in the network above are\n",
    "\n",
    "$$\n",
    "K(v) = \\begin{pmatrix}\n",
    "k_1 v_X v_Y \\\\\n",
    "k_2 v_Z^2\n",
    "\\end{pmatrix}\n",
    "$$\n",
    "\n",
    "where we suppose that $k_1$ and $k_2$ are the rate constants for the two reactions in the network respectively.\n",
    "\n",
    "The Deterministic Equation\n",
    "---\n",
    "\n",
    "The rate at which the concentrations in a reaction network change\n",
    "leads to a set of differential equations, called the deterministic\n",
    "equations (to contrast them with the stochastic equations we study\n",
    "later) that can be written succinctly as\n",
    "\n",
    "$$\n",
    "\\dot v = A K(v).\n",
    "$$\n",
    "\n",
    "Along with an initial concentration vector $v(0)$ and actual values\n",
    "for the rate constants, this completely specifies the behavior of a\n",
    "reaction network."
   ]
  },
  {
   "cell_type": "markdown",
   "metadata": {},
   "source": [
    "Example\n",
    "---\n",
    "Once again, consider the example above with\n",
    "\n",
    "$$\n",
    "A = \\left ( \\begin{array}{cc}\n",
    "-1 & 1 \\\\\n",
    "-1 & 0 \\\\\n",
    "1 & -2\n",
    "\\end{array} \\right ).\n",
    "$$\n",
    "\n",
    "and\n",
    "\n",
    "$$\n",
    "K(v) = \\begin{pmatrix}\n",
    "k_1 v_X v_Y \\\\\n",
    "k_2 v_Z^2\n",
    "\\end{pmatrix}\n",
    "$$\n",
    "\n",
    "then\n",
    "$$\n",
    "\\dot v = \\begin{pmatrix}\n",
    "\\dot v_X \\\\\n",
    "\\dot v_Y \\\\\n",
    "\\dot v_Z\n",
    "\\end{pmatrix} = \\begin{pmatrix}\n",
    "-k_1 v_X v_Y + k_2 v_Z^2 \\\\\n",
    "-k_1 v_X v_Y \\\\\n",
    "k_1 v_X v_Y - 2 k_2 v_Z\n",
    "\\end{pmatrix} .\n",
    "$$\n",
    "\n",
    "We can simulate this system in Python as follows"
   ]
  },
  {
   "cell_type": "code",
   "execution_count": 2,
   "metadata": {},
   "outputs": [
    {
     "data": {
      "text/latex": [
       "$$\\left[\\begin{matrix}- k_{1} vx vy + k_{2} vz^{2}\\\\- k_{1} vx vy\\\\k_{1} vx vy - 2 k_{2} vz^{2}\\end{matrix}\\right]$$"
      ],
      "text/plain": [
       "⎡                 2 ⎤\n",
       "⎢-k₁⋅vx⋅vy + k₂⋅vz  ⎥\n",
       "⎢                   ⎥\n",
       "⎢     -k₁⋅vx⋅vy     ⎥\n",
       "⎢                   ⎥\n",
       "⎢                  2⎥\n",
       "⎣k₁⋅vx⋅vy - 2⋅k₂⋅vz ⎦"
      ]
     },
     "execution_count": 2,
     "metadata": {},
     "output_type": "execute_result"
    }
   ],
   "source": [
    "var(\"t k1 k2 vx vy vz\")\n",
    "A = Matrix([\n",
    "    [-1,1],\n",
    "    [-1,0],\n",
    "    [1,-2]\n",
    "])\n",
    "K = Matrix([\n",
    "    [ k1 * vx * vy ],\n",
    "    [ k2 * vz**2 ]\n",
    "])\n",
    "A*K"
   ]
  },
  {
   "cell_type": "code",
   "execution_count": 3,
   "metadata": {},
   "outputs": [],
   "source": [
    "faux = lambdify([[vx,vy,vz]],(A*K).subs(k1,1).subs(k2,2),'numpy')\n",
    "def f(x,t):\n",
    "    return faux(x).flatten()\n",
    "t = np.linspace(0,8,100)\n",
    "x = spi.odeint(f,[1,1,0],t);"
   ]
  },
  {
   "cell_type": "code",
   "execution_count": 4,
   "metadata": {},
   "outputs": [
    {
     "data": {
      "image/png": "[encoded data removed]",
      "text/plain": [
       "<matplotlib.figure.Figure at 0x118111c18>"
      ]
     },
     "metadata": {},
     "output_type": "display_data"
    }
   ],
   "source": [
    "plt.rcParams['figure.figsize'] = [4,3]\n",
    "plt.rcParams['figure.figsize'] = [10,8]\n",
    "X,Y,Z = plt.plot(t,x);\n",
    "plt.xlabel('$t$');\n",
    "plt.ylabel('$x(t)$');\n",
    "plt.legend([Y,X,Z],[\"X\",\"Y\",\"Z\"]);"
   ]
  },
  {
   "cell_type": "markdown",
   "metadata": {},
   "source": [
    "Generic Code\n",
    "===\n",
    "\n",
    "The code above only works for the particular example. We can generalize the code to come up with the equations for any chemical reaction network."
   ]
  },
  {
   "cell_type": "code",
   "execution_count": 5,
   "metadata": {},
   "outputs": [],
   "source": [
    "def StoichiometricMatix(rxns):\n",
    "    \"\"\"Returns the stoichiometric matrix for the given reactions.\n",
    "       It is assumed that the reactions are in a list of reactions\n",
    "       each ofthe form\n",
    "          [ar, ap, rate_constant]\n",
    "       where ar is the reactant vector and ap is the product vector.\n",
    "    \"\"\"\n",
    "    vectors = [(-Matrix(a[0]) + Matrix(a[1])) for a in rxns]\n",
    "    A = Matrix(vectors[0])\n",
    "    for i in range(1,len(vectors)):\n",
    "        A = A.col_insert(i,vectors[i])\n",
    "    return A\n",
    "\n",
    "def MAK(a,syms):\n",
    "    \"\"\"The mass action kinetics rate for the reaction a [ ar, ap, k ].\n",
    "       syms should be a list of sympy symbols such as returned by var(\"x y z\")\"\"\"\n",
    "    rate = a[2] # k\n",
    "    for r,s in zip(a[0],syms):\n",
    "        rate = rate * s**r\n",
    "    return rate\n",
    "\n",
    "def KineticsVector(rxns,syms):\n",
    "    \"\"\"Builds the kinetics vector for the given reactions\"\"\"\n",
    "    return Matrix([MAK(a,syms) for a in rxns])\n",
    "\n",
    "def Dynamics(rxns,syms):\n",
    "    \"\"\"Builds the right hand side of the equation dv/dt = AK(v)\"\"\"\n",
    "    return StoichiometricMatix(rxns) * KineticsVector(rxns,syms)\n",
    "\n",
    "def ODEs(dynamics,syms):\n",
    "    \"\"\"Convertns the dynamics into a function that can be used with scipy's odeint function\"\"\"\n",
    "    faux = lambdify([syms],dynamics,'numpy')\n",
    "    def f(x,t):\n",
    "        return faux(x).flatten()\n",
    "    return f\n",
    "\n",
    "def vectorize(species,names):\n",
    "    a = [0 for s in species]\n",
    "    for name in names:\n",
    "        a[species.index(name)] += 1\n",
    "    return a\n",
    "\n",
    "def make_vectorizer(species):\n",
    "    def f(*args):\n",
    "        return vectorize(species, args)\n",
    "    return f"
   ]
  },
  {
   "cell_type": "code",
   "execution_count": 6,
   "metadata": {},
   "outputs": [
    {
     "data": {
      "text/latex": [
       "$$\\left [ 0, \\quad 0, \\quad 2\\right ]$$"
      ],
      "text/plain": [
       "[0, 0, 2]"
      ]
     },
     "execution_count": 6,
     "metadata": {},
     "output_type": "execute_result"
    }
   ],
   "source": [
    "species = var(\"x y z\")\n",
    "params = var(\"k1 k2\")\n",
    "v = make_vectorizer(species)\n",
    "v(z,z)"
   ]
  },
  {
   "cell_type": "code",
   "execution_count": 7,
   "metadata": {},
   "outputs": [
    {
     "data": {
      "text/latex": [
       "$$\\left[\\begin{matrix}-1 & 1\\\\-1 & 0\\\\1 & -2\\end{matrix}\\right]$$"
      ],
      "text/plain": [
       "⎡-1  1 ⎤\n",
       "⎢      ⎥\n",
       "⎢-1  0 ⎥\n",
       "⎢      ⎥\n",
       "⎣1   -2⎦"
      ]
     },
     "execution_count": 7,
     "metadata": {},
     "output_type": "execute_result"
    }
   ],
   "source": [
    "rxns = [\n",
    "    [v(x,y),v(z),k1], # X+Y -k1-> Z\n",
    "    [v(z,z),v(x),k2]  # 2Z -k2-> X\n",
    "]\n",
    "StoichiometricMatix(rxns)"
   ]
  },
  {
   "cell_type": "code",
   "execution_count": 8,
   "metadata": {},
   "outputs": [
    {
     "data": {
      "text/latex": [
       "$$\\left[\\begin{matrix}k_{1} x y\\\\k_{2} z^{2}\\end{matrix}\\right]$$"
      ],
      "text/plain": [
       "⎡k₁⋅x⋅y⎤\n",
       "⎢      ⎥\n",
       "⎢    2 ⎥\n",
       "⎣k₂⋅z  ⎦"
      ]
     },
     "execution_count": 8,
     "metadata": {},
     "output_type": "execute_result"
    }
   ],
   "source": [
    "KineticsVector(rxns,species)"
   ]
  },
  {
   "cell_type": "code",
   "execution_count": 9,
   "metadata": {},
   "outputs": [
    {
     "data": {
      "text/latex": [
       "$$\\left[\\begin{matrix}- k_{1} x y + k_{2} z^{2}\\\\- k_{1} x y\\\\k_{1} x y - 2 k_{2} z^{2}\\end{matrix}\\right]$$"
      ],
      "text/plain": [
       "⎡              2 ⎤\n",
       "⎢-k₁⋅x⋅y + k₂⋅z  ⎥\n",
       "⎢                ⎥\n",
       "⎢    -k₁⋅x⋅y     ⎥\n",
       "⎢                ⎥\n",
       "⎢               2⎥\n",
       "⎣k₁⋅x⋅y - 2⋅k₂⋅z ⎦"
      ]
     },
     "execution_count": 9,
     "metadata": {},
     "output_type": "execute_result"
    }
   ],
   "source": [
    "dyn = Dynamics(rxns,species)\n",
    "dyn"
   ]
  },
  {
   "cell_type": "code",
   "execution_count": 10,
   "metadata": {},
   "outputs": [
    {
     "data": {
      "image/png": "[encoded data removed]",
      "text/plain": [
       "<matplotlib.figure.Figure at 0x11844c518>"
      ]
     },
     "metadata": {},
     "output_type": "display_data"
    }
   ],
   "source": [
    "param_vals = [(k1,1),(k2,1)]\n",
    "f = ODEs(dyn.subs(param_vals),species)\n",
    "t = np.linspace(0,8,100)\n",
    "x = spi.odeint(f,[1,1,0],t);\n",
    "plots = plt.plot(t,x);\n",
    "plt.xlabel('$t$');\n",
    "plt.ylabel('$concentrations$');\n",
    "plt.legend(plots,species);"
   ]
  },
  {
   "cell_type": "markdown",
   "metadata": {},
   "source": [
    "Cooperativity\n",
    "==="
   ]
  },
  {
   "cell_type": "code",
   "execution_count": 20,
   "metadata": {},
   "outputs": [
    {
     "data": {
      "text/latex": [
       "$$\\left[\\begin{matrix}1 & -1 & -2 & 2 & 0 & 0 & 0 & 0\\\\0 & 0 & 1 & -1 & -1 & 1 & 0 & 0\\\\0 & 0 & 0 & 0 & -1 & 1 & 0 & 0\\\\0 & 0 & 0 & 0 & 1 & -1 & 0 & 0\\\\0 & 0 & 0 & 0 & 0 & 0 & 1 & -1\\end{matrix}\\right]$$"
      ],
      "text/plain": [
       "⎡1  -1  -2  2   0   0   0  0 ⎤\n",
       "⎢                            ⎥\n",
       "⎢0  0   1   -1  -1  1   0  0 ⎥\n",
       "⎢                            ⎥\n",
       "⎢0  0   0   0   -1  1   0  0 ⎥\n",
       "⎢                            ⎥\n",
       "⎢0  0   0   0   1   -1  0  0 ⎥\n",
       "⎢                            ⎥\n",
       "⎣0  0   0   0   0   0   1  -1⎦"
      ]
     },
     "execution_count": 20,
     "metadata": {},
     "output_type": "execute_result"
    }
   ],
   "source": [
    "species = var(\"R R2 Gon Goff P\")\n",
    "params = var(\"u k1 k2 k3 k4 k5 k6\")\n",
    "v =  make_vectorizer(species)\n",
    "\n",
    "rxns = [\n",
    "    \n",
    "    [v(), v(R), u],            # 0 -> R\n",
    "    [v(R), v(), k1],           # R -> 0\n",
    "    [v(R,R), v(R2), k2],       # R + R -> R2\n",
    "    [v(R2), v(R,R), k3],       # R2 -> R + R\n",
    "    [v(Gon,R2), v(Goff), k4],  # Gon + R2 -> Goff\n",
    "    [v(Goff), v(Gon,R2),k5],   # Goff -> Gon + R2\n",
    "    [v(Gon), v(Gon,P),k6],     # Gon -> Gon + P\n",
    "    [v(P), v(), k1]            # P -> nothing\n",
    "    \n",
    "]\n",
    "\n",
    "StoichiometricMatix(rxns)"
   ]
  },
  {
   "cell_type": "code",
   "execution_count": 21,
   "metadata": {},
   "outputs": [
    {
     "data": {
      "text/latex": [
       "$$\\left[\\begin{matrix}- 2 R^{2} k_{2} - R k_{1} + 2 R_{2} k_{3} + u\\\\Goff k_{5} - Gon R_{2} k_{4} + R^{2} k_{2} - R_{2} k_{3}\\\\Goff k_{5} - Gon R_{2} k_{4}\\\\- Goff k_{5} + Gon R_{2} k_{4}\\\\Gon k_{6} - P k_{1}\\end{matrix}\\right]$$"
      ],
      "text/plain": [
       "⎡       2                           ⎤\n",
       "⎢  - 2⋅R ⋅k₂ - R⋅k₁ + 2⋅R₂⋅k₃ + u   ⎥\n",
       "⎢                                   ⎥\n",
       "⎢                       2           ⎥\n",
       "⎢Goff⋅k₅ - Gon⋅R₂⋅k₄ + R ⋅k₂ - R₂⋅k₃⎥\n",
       "⎢                                   ⎥\n",
       "⎢        Goff⋅k₅ - Gon⋅R₂⋅k₄        ⎥\n",
       "⎢                                   ⎥\n",
       "⎢       -Goff⋅k₅ + Gon⋅R₂⋅k₄        ⎥\n",
       "⎢                                   ⎥\n",
       "⎣           Gon⋅k₆ - P⋅k₁           ⎦"
      ]
     },
     "execution_count": 21,
     "metadata": {},
     "output_type": "execute_result"
    }
   ],
   "source": [
    "dyn = Dynamics(rxns,species)\n",
    "dyn"
   ]
  },
  {
   "cell_type": "code",
   "execution_count": 22,
   "metadata": {},
   "outputs": [
    {
     "data": {
      "image/png": "[encoded data removed]",
      "text/plain": [
       "<matplotlib.figure.Figure at 0x11a3fd908>"
      ]
     },
     "metadata": {},
     "output_type": "display_data"
    }
   ],
   "source": [
    "param_values = [\n",
    "    (k1,0.1),         # protein dilution and degradation\n",
    "    (k2,1), (k3,0.25), # dimerization\n",
    "    (k4,1), (k5,0.1), # repressor binding\n",
    "    (k6,2)            # gene expression\n",
    "]\n",
    "f = ODEs(dyn.subs(param_values).subs(u,0.03),species)\n",
    "t = np.linspace(0,800,200)\n",
    "x0 = [0 for s in species]\n",
    "x0[2] = 1 # Initial population of Gon\n",
    "x = spi.odeint(f,x0,t);\n",
    "plots = plt.plot(t,x);\n",
    "plt.xlabel('$t$');\n",
    "plt.ylabel('$concentrations$');\n",
    "plt.legend(plots,species);"
   ]
  },
  {
   "cell_type": "code",
   "execution_count": 23,
   "metadata": {},
   "outputs": [
    {
     "data": {
      "text/latex": [
       "$$\\left \\{ Goff : \\frac{P k_{2} k_{4} u^{2}}{k_{1} k_{3} k_{5} k_{6}}, \\quad Gon : \\frac{P k_{1}}{k_{6}}, \\quad R : - \\frac{1}{4 k_{2}} \\left(k_{1} - \\sqrt{k_{1}^{2} + 8 k_{2} u + \\frac{16 k_{2}^{2}}{k_{1}^{2}} u^{2}}\\right), \\quad R_{2} : \\frac{k_{2} u^{2}}{k_{1}^{2} k_{3}}\\right \\}$$"
      ],
      "text/plain": [
       "⎧                                  ⎛           __________________________⎞    \n",
       "⎪                                  ⎜          ╱                     2  2 ⎟    \n",
       "⎪                                  ⎜         ╱    2            16⋅k₂ ⋅u  ⎟    \n",
       "⎪                                 -⎜k₁ -    ╱   k₁  + 8⋅k₂⋅u + ───────── ⎟    \n",
       "⎨                2                 ⎜       ╱                        2    ⎟    \n",
       "⎪       P⋅k₂⋅k₄⋅u        P⋅k₁      ⎝     ╲╱                       k₁     ⎠    \n",
       "⎪Goff: ───────────, Gon: ────, R: ─────────────────────────────────────────, R\n",
       "⎪      k₁⋅k₃⋅k₅⋅k₆        k₆                         4⋅k₂                     \n",
       "⎩                                                                             \n",
       "\n",
       "         ⎫\n",
       "         ⎪\n",
       "         ⎪\n",
       "         ⎪\n",
       "       2 ⎬\n",
       "   k₂⋅u  ⎪\n",
       "₂: ──────⎪\n",
       "     2   ⎪\n",
       "   k₁ ⋅k₃⎭"
      ]
     },
     "execution_count": 23,
     "metadata": {},
     "output_type": "execute_result"
    }
   ],
   "source": [
    "solve(dyn,species)[0]"
   ]
  },
  {
   "cell_type": "code",
   "execution_count": 24,
   "metadata": {},
   "outputs": [
    {
     "data": {
      "text/latex": [
       "$$\\left ( \\frac{gtot k_{2} k_{4} u^{2}}{k_{1}^{2} k_{3} k_{5} + k_{2} k_{4} u^{2}}, \\quad \\frac{gtot k_{1} k_{3} k_{5} k_{6}}{k_{1}^{2} k_{3} k_{5} + k_{2} k_{4} u^{2}}, \\quad \\frac{u}{k_{1}}, \\quad \\frac{k_{2} u^{2}}{k_{1}^{2} k_{3}}\\right )$$"
      ],
      "text/plain": [
       "⎛               2                                    2 ⎞\n",
       "⎜   gtot⋅k₂⋅k₄⋅u         gtot⋅k₁⋅k₃⋅k₅⋅k₆    u   k₂⋅u  ⎟\n",
       "⎜────────────────────, ────────────────────, ──, ──────⎟\n",
       "⎜  2                2    2                2  k₁    2   ⎟\n",
       "⎝k₁ ⋅k₃⋅k₅ + k₂⋅k₄⋅u   k₁ ⋅k₃⋅k₅ + k₂⋅k₄⋅u       k₁ ⋅k₃⎠"
      ]
     },
     "execution_count": 24,
     "metadata": {},
     "output_type": "execute_result"
    }
   ],
   "source": [
    "var(\"gtot\")\n",
    "goff, p, r, r2 = solve(dyn.subs(Gon,gtot - Goff),[Goff, P, R, R2])[0]\n",
    "goff, p, r, r2"
   ]
  },
  {
   "cell_type": "code",
   "execution_count": 25,
   "metadata": {},
   "outputs": [
    {
     "data": {
      "image/png": "[encoded data removed]",
      "text/plain": [
       "<matplotlib.figure.Figure at 0x119bbcf28>"
      ]
     },
     "metadata": {},
     "output_type": "display_data"
    }
   ],
   "source": [
    "f = lambdify(u,p.subs(param_values).subs(gtot,1), 'numpy')\n",
    "w = np.linspace(-3,0,100)\n",
    "uvals = 10**w\n",
    "plt.plot(uvals,f(uvals))\n",
    "plt.xlabel(\"u\")\n",
    "plt.xlabel(\"[P]\")\n",
    "plt.title(\"Output protein concentration vs repressor induction level\")\n",
    "plt.xscale('log')"
   ]
  },
  {
   "cell_type": "markdown",
   "metadata": {},
   "source": [
    "Example: Repressilator Version 1\n",
    "===\n",
    "\n",
    "Here we will represent the repressilator from [Elowitz 2000](https://www.nature.com/articles/35002125).\n",
    "\n",
    "The species will be listed in the stochiometry vectors in the following order:\n",
    "- P1\n",
    "- P2\n",
    "- P3\n",
    "- G1 \n",
    "- G2\n",
    "- G3\n",
    "- P1G2\n",
    "- P2G3\n",
    "- P3G1"
   ]
  },
  {
   "cell_type": "code",
   "execution_count": 26,
   "metadata": {},
   "outputs": [
    {
     "data": {
      "text/latex": [
       "$$\\left[\\begin{array}{cccccccccccc}1 & -1 & -1 & 1 & 0 & 0 & 0 & 0 & 0 & 0 & 0 & 0\\\\0 & 0 & 0 & 0 & 1 & -1 & -1 & 1 & 0 & 0 & 0 & 0\\\\0 & 0 & 0 & 0 & 0 & 0 & 0 & 0 & 1 & -1 & -1 & 1\\\\0 & 0 & 0 & 1 & 0 & 0 & 0 & 0 & 0 & 0 & -1 & 1\\\\0 & 0 & -1 & 0 & 0 & 0 & 0 & 0 & 0 & 0 & 0 & 0\\\\0 & 0 & 0 & 0 & 0 & 0 & -1 & 1 & 0 & 0 & 0 & 0\\\\0 & 0 & 1 & -1 & 0 & 0 & 0 & 0 & 0 & 0 & 0 & 0\\\\0 & 0 & 0 & 0 & 0 & 0 & 1 & -1 & 0 & 0 & 0 & 0\\\\0 & 0 & 0 & 0 & 0 & 0 & 0 & 0 & 0 & 0 & 1 & -1\\end{array}\\right]$$"
      ],
      "text/plain": [
       "⎡1  -1  -1  1   0  0   0   0   0  0   0   0 ⎤\n",
       "⎢                                           ⎥\n",
       "⎢0  0   0   0   1  -1  -1  1   0  0   0   0 ⎥\n",
       "⎢                                           ⎥\n",
       "⎢0  0   0   0   0  0   0   0   1  -1  -1  1 ⎥\n",
       "⎢                                           ⎥\n",
       "⎢0  0   0   1   0  0   0   0   0  0   -1  1 ⎥\n",
       "⎢                                           ⎥\n",
       "⎢0  0   -1  0   0  0   0   0   0  0   0   0 ⎥\n",
       "⎢                                           ⎥\n",
       "⎢0  0   0   0   0  0   -1  1   0  0   0   0 ⎥\n",
       "⎢                                           ⎥\n",
       "⎢0  0   1   -1  0  0   0   0   0  0   0   0 ⎥\n",
       "⎢                                           ⎥\n",
       "⎢0  0   0   0   0  0   1   -1  0  0   0   0 ⎥\n",
       "⎢                                           ⎥\n",
       "⎣0  0   0   0   0  0   0   0   0  0   1   -1⎦"
      ]
     },
     "execution_count": 26,
     "metadata": {},
     "output_type": "execute_result"
    }
   ],
   "source": [
    "species = var(\"P1 P2 P3 G1 G2 G3 PG12 PG23 PG31\")\n",
    "v =  make_vectorizer(species)\n",
    "rate_syms = var(\"k1 k2 k3 k4\")\n",
    "\n",
    "repressilator = [\n",
    "    \n",
    "    [v(G1), v(G1,P1), k1],    # G1 -> P1\n",
    "    [v(P1), v(), k2],         # P1 -> 0\n",
    "    [v(P1,G2), v(PG12), k3],  # P1 + G2 -> P1G2\n",
    "    [v(PG12), v(P1,G1), k4],  # P1G2 -> P1 + G2\n",
    "    \n",
    "    [v(G2), v(G2,P2), k1],     \n",
    "    [v(P2), v(), k2],     \n",
    "    [v(P2,G3), v(PG23), k3], \n",
    "    [v(PG23), v(P2,G3), k4],   \n",
    "    \n",
    "    [v(G3), v(G3,P3), k1],     \n",
    "    [v(P3), v(), k2],    \n",
    "    [v(P3,G1), v(PG31), k3],\n",
    "    [v(PG31), v(P3,G1), k4]\n",
    "    \n",
    "]\n",
    "StoichiometricMatix(repressilator)"
   ]
  },
  {
   "cell_type": "code",
   "execution_count": 18,
   "metadata": {},
   "outputs": [
    {
     "data": {
      "text/latex": [
       "$$\\left[\\begin{matrix}G_{1} k_{1} - G_{2} P_{1} k_{3} - P_{1} k_{2} + PG_{12} k_{4}\\\\G_{2} k_{1} - G_{3} P_{2} k_{3} - P_{2} k_{2} + PG_{23} k_{4}\\\\- G_{1} P_{3} k_{3} + G_{3} k_{1} - P_{3} k_{2} + PG_{31} k_{4}\\\\- G_{1} P_{3} k_{3} + PG_{12} k_{4} + PG_{31} k_{4}\\\\- G_{2} P_{1} k_{3}\\\\- G_{3} P_{2} k_{3} + PG_{23} k_{4}\\\\G_{2} P_{1} k_{3} - PG_{12} k_{4}\\\\G_{3} P_{2} k_{3} - PG_{23} k_{4}\\\\G_{1} P_{3} k_{3} - PG_{31} k_{4}\\end{matrix}\\right]$$"
      ],
      "text/plain": [
       "⎡G₁⋅k₁ - G₂⋅P₁⋅k₃ - P₁⋅k₂ + PG₁₂⋅k₄ ⎤\n",
       "⎢                                   ⎥\n",
       "⎢G₂⋅k₁ - G₃⋅P₂⋅k₃ - P₂⋅k₂ + PG₂₃⋅k₄ ⎥\n",
       "⎢                                   ⎥\n",
       "⎢-G₁⋅P₃⋅k₃ + G₃⋅k₁ - P₃⋅k₂ + PG₃₁⋅k₄⎥\n",
       "⎢                                   ⎥\n",
       "⎢   -G₁⋅P₃⋅k₃ + PG₁₂⋅k₄ + PG₃₁⋅k₄   ⎥\n",
       "⎢                                   ⎥\n",
       "⎢             -G₂⋅P₁⋅k₃             ⎥\n",
       "⎢                                   ⎥\n",
       "⎢        -G₃⋅P₂⋅k₃ + PG₂₃⋅k₄        ⎥\n",
       "⎢                                   ⎥\n",
       "⎢        G₂⋅P₁⋅k₃ - PG₁₂⋅k₄         ⎥\n",
       "⎢                                   ⎥\n",
       "⎢        G₃⋅P₂⋅k₃ - PG₂₃⋅k₄         ⎥\n",
       "⎢                                   ⎥\n",
       "⎣        G₁⋅P₃⋅k₃ - PG₃₁⋅k₄         ⎦"
      ]
     },
     "execution_count": 18,
     "metadata": {},
     "output_type": "execute_result"
    }
   ],
   "source": [
    "dyn = Dynamics(repressilator,species)\n",
    "dyn"
   ]
  },
  {
   "cell_type": "code",
   "execution_count": null,
   "metadata": {
    "collapsed": true
   },
   "outputs": [],
   "source": []
  },
  {
   "cell_type": "code",
   "execution_count": 19,
   "metadata": {},
   "outputs": [
    {
     "data": {
      "image/png": "[encoded data removed]",
      "text/plain": [
       "<matplotlib.figure.Figure at 0x119d93f98>"
      ]
     },
     "metadata": {},
     "output_type": "display_data"
    }
   ],
   "source": [
    "f = ODEs(dyn.subs(k1,1).subs(k2,.5).subs(k3,1).subs(k4,.5),species)\n",
    "t = np.linspace(0,100,100)\n",
    "x0 = [np.random.rand()*2 for s in species]\n",
    "x = spi.odeint(f,x0,t);\n",
    "plots = plt.plot(t,x);\n",
    "plt.xlabel('$t$');\n",
    "plt.ylabel('$concentrations$');\n",
    "plt.legend(plots,species);"
   ]
  }
 ],
 "metadata": {
  "kernelspec": {
   "display_name": "Python 3",
   "language": "python",
   "name": "python3"
  },
  "language_info": {
   "codemirror_mode": {
    "name": "ipython",
    "version": 3
   },
   "file_extension": ".py",
   "mimetype": "text/x-python",
   "name": "python",
   "nbconvert_exporter": "python",
   "pygments_lexer": "ipython3",
   "version": "3.6.1"
  },
  "latex_envs": {
   "LaTeX_envs_menu_present": true,
   "autoclose": false,
   "autocomplete": true,
   "bibliofile": "biblio.bib",
   "cite_by": "apalike",
   "current_citInitial": 1,
   "eqLabelWithNumbers": true,
   "eqNumInitial": 1,
   "hotkeys": {
    "equation": "Ctrl-E",
    "itemize": "Ctrl-I"
   },
   "labels_anchors": false,
   "latex_user_defs": false,
   "report_style_numbering": false,
   "user_envs_cfg": false
  }
 },
 "nbformat": 4,
 "nbformat_minor": 2
}
