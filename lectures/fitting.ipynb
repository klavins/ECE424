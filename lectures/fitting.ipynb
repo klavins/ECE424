{
 "cells": [
  {
   "cell_type": "markdown",
   "metadata": {
    "heading_collapsed": true
   },
   "source": [
    "# ECE 424: Fitting Models to Data\n",
    "\n",
    "Eric Klavins\n",
    "\n",
    "Copyright &copy; University of Washington, 2019"
   ]
  },
  {
   "cell_type": "markdown",
   "metadata": {
    "heading_collapsed": true
   },
   "source": [
    "# Sources of Data for Genetic Circuits"
   ]
  },
  {
   "cell_type": "markdown",
   "metadata": {
    "hidden": true
   },
   "source": [
    "Growth Conditions\n",
    "---\n",
    "\n",
    "- **Batch:** The simplest method. Put microorganisms in a test tube with growth media and stir. Periodically sample the tube to measure optical density, fluorescence, and even deep sequencing. Issues:\n",
    "    - Nutrient changing constantly $\\Rightarrow$ cells in different growth state for whole experiment.\n",
    "    - Usually only measure circuit behavior during active (exponential) growth phase.\n",
    "    - Can be hard to mix (and provide oxygen to) cells in small volumes \n",
    "\n",
    "\n",
    "- **Continuous Culture:** Add media in continuously. Remove liquid and cells to maintain volume. \n",
    "\n",
    "<img width=50% src=\"https://pubs.acs.org/appl/literatum/publisher/achs/journals/content/asbcd6/2015/asbcd6.2015.4.issue-1/sb500165g/20150718/images/large/sb-2014-00165g_0001.jpeg\"> From https://pubs.acs.org/doi/abs/10.1021/sb500165g\n",
    "\n",
    "Measurements\n",
    "---\n",
    "\n",
    "- **Plate Reader:**\n",
    "\n",
    "<img width=60% src=\"https://medicine.yale.edu/keck/biophysics/technologies/platereader/Schematics%20of%20optics%20Settings_116403_284_14720_v1.jpg\"> \n",
    "<img src=\"https://a9943e4c475462fc4fa4-b511c07cae915b9d1958179eaa4432ea.ssl.cf1.rackcdn.com/images/products/synergyht/HTX_center_open.jpg\">\n",
    "Issues: Small growth chambers make cells settle, disturbing optical readings\n",
    "\n",
    "- **Flow Cytometry:**\n",
    "\n",
    "<img src=\"https://www.thermofisher.com/content/dam/LifeTech/global/life-sciences/cellanalysis/Images/learning-center/molecular-probes-school-of-fluorescence/how-flow-works-Fig4-740x500.png\"> Issues Must grow cells in separate place (e.g. batch or continuous culture). Benefits: Also gives you variation in expression of circuit.\n",
    "\n",
    "- **Microfludics:**\n",
    "\n",
    "<img src=\"https://www.gene-quantification.de/sarkar-microfluidics-single-cell.jpg\"> Issues: No company makes exactly what you want, so you end up having to build these things yourself (for now).\n",
    "\n",
    "- **Sequencing:**\n",
    "\n",
    "<img src=\"https://media.springernature.com/m685/springer-static/image/art%3A10.1038%2Fs41467-017-00039-z/MediaObjects/41467_2017_39_Fig4_HTML.jpg\"> Issues: Expensive! From: https://www.nature.com/articles/s41467-017-00039-z\n"
   ]
  },
  {
   "cell_type": "markdown",
   "metadata": {
    "heading_collapsed": true
   },
   "source": [
    "# Chemical Reaction Code"
   ]
  },
  {
   "cell_type": "code",
   "execution_count": 9,
   "metadata": {
    "collapsed": true,
    "hidden": true
   },
   "outputs": [],
   "source": [
    "import numpy as np\n",
    "import scipy.integrate as spi\n",
    "from scipy.optimize import leastsq\n",
    "import matplotlib.pyplot as plt\n",
    "from sympy import *\n",
    "\n",
    "%matplotlib inline\n",
    "\n",
    "# Comment out in Google colab \n",
    "init_printing(use_latex='mathjax')\n",
    "\n",
    "# Uncomment in below Google colab to render sympy equations nicely\n",
    "# def custom_latex_printer(exp,**options):\n",
    "#     from google.colab.output._publish import javascript\n",
    "#     url = \"https://cdnjs.cloudflare.com/ajax/libs/mathjax/2.7.3/latest.js?config=default\"\n",
    "#     javascript(url=url)\n",
    "#     return printing.latex(exp,**options)\n",
    "# init_printing(use_latex=\"mathjax\",latex_printer=custom_latex_printer)\n",
    "\n",
    "def StoichiometricMatix(rxns):\n",
    "    \"\"\"Returns the stoichiometric matrix for the given reactions.\n",
    "       It is assumed that the reactions are in a list of reactions\n",
    "       each ofthe form\n",
    "          [ar, ap, rate_constant]\n",
    "       where ar is the reactant vector and ap is the product vector.\n",
    "    \"\"\"\n",
    "    vectors = [(-Matrix(a[0]) + Matrix(a[1])) for a in rxns]\n",
    "    A = Matrix(vectors[0])\n",
    "    for i in range(1,len(vectors)):\n",
    "        A = A.col_insert(i,vectors[i])\n",
    "    return A\n",
    "\n",
    "def MAK(a,syms):\n",
    "    \"\"\"The mass action kinetics rate for the reaction a [ ar, ap, k ].\n",
    "       syms should be a list of sympy symbols such as returned by var(\"x y z\")\"\"\"\n",
    "    rate = a[2] # k\n",
    "    for r,s in zip(a[0],syms):\n",
    "        rate = rate * s**r\n",
    "    return rate\n",
    "\n",
    "def KineticsVector(rxns,syms):\n",
    "    \"\"\"Builds the kinetics vector for the given reactions\"\"\"\n",
    "    return Matrix([MAK(a,syms) for a in rxns])\n",
    "\n",
    "def Dynamics(rxns,syms):\n",
    "    \"\"\"Builds the right hand side of the equation dv/dt = AK(v)\"\"\"\n",
    "    return StoichiometricMatix(rxns) * KineticsVector(rxns,syms)\n",
    "\n",
    "def ODEs(dynamics,syms):\n",
    "    \"\"\"Convertns the dynamics into a function that can be used with scipy's odeint function\"\"\"\n",
    "    faux = lambdify([syms],dynamics,'numpy')\n",
    "    def f(x,t):\n",
    "        return faux(x).flatten()\n",
    "    return f\n",
    "\n",
    "def vectorize(species,names):\n",
    "    a = [0 for s in species]\n",
    "    for name in names:\n",
    "        a[species.index(name)] += 1\n",
    "    return a\n",
    "\n",
    "def make_vectorizer(species):\n",
    "    def f(*args):\n",
    "        return vectorize(species, args)\n",
    "    return f"
   ]
  },
  {
   "cell_type": "markdown",
   "metadata": {
    "heading_collapsed": true
   },
   "source": [
    "# Fitting a Line"
   ]
  },
  {
   "cell_type": "code",
   "execution_count": null,
   "metadata": {
    "hidden": true
   },
   "outputs": [],
   "source": [
    "from lmfit import minimize, Parameters\n",
    "\n",
    "xdata = np.sort([np.random.random()*10 for i in range(10)])\n",
    "ydata = [5+5*np.random.random() + 2*x for x in xdata] \n",
    "\n",
    "def line(x,params):\n",
    "    return params['m']*x+params['b']\n",
    "\n",
    "def residual(params,f,x,y):\n",
    "    return [ f(q[0],params) - q[1] for q in zip(x,y) ]\n",
    "\n",
    "p = Parameters()\n",
    "p.add('m', value=0)\n",
    "p.add('b', value=0)\n",
    "\n",
    "result = minimize(residual,p,args=(line,xdata,ydata))\n",
    "\n",
    "xvals = np.linspace(0,max(xdata),10)\n",
    "plt.plot(xvals,line(xvals,result.params));\n",
    "plt.scatter(xdata,ydata);\n",
    "plt.title(\"m = %.2f $\\pm$ %.2f\\nb = %.2f $\\pm$ %.2f\" % (\n",
    "    result.params['m'].value,result.params['m'].stderr,\n",
    "    result.params['b'].value,result.params['b'].stderr\n",
    "));\n",
    "# result"
   ]
  },
  {
   "cell_type": "markdown",
   "metadata": {
    "heading_collapsed": true
   },
   "source": [
    "# Fitting an ODE"
   ]
  },
  {
   "cell_type": "code",
   "execution_count": null,
   "metadata": {
    "hidden": true
   },
   "outputs": [],
   "source": [
    "tdata = np.linspace(0,5,10)\n",
    "a = -1-0.1*np.random.random()\n",
    "x0 = 5 * np.random.random() + 1\n",
    "print(a,x0)\n",
    "eps = -a/2\n",
    "xdata = [np.exp(a*t)*x0 + eps*(np.random.random() - 0.5) for t in tdata] \n",
    "\n",
    "def residual(params,t,x):\n",
    "    f = lambda x, t : params['a']*x\n",
    "    xsol = spi.odeint(f,[params['x0']],t)\n",
    "    errs = [ a - b for a,b in zip(xsol,x)]\n",
    "    return np.array(errs).flatten()\n",
    "\n",
    "p = Parameters()\n",
    "p.add('a', value=-1,max=0)\n",
    "p.add('x0', value=1)\n",
    "\n",
    "result = minimize(residual,p,args=(tdata,xdata))\n",
    "\n",
    "tvals = np.linspace(0,max(tdata),420)\n",
    "plt.plot(tvals,result.params['x0']*np.exp(result.params['a'] * tvals))\n",
    "plt.scatter(tdata,xdata);\n",
    "plt.title(\"a = %.2f $\\pm$ %.2f\\nx0 = %.2f $\\pm$ %.2f\" % (\n",
    "    result.params['a'].value, result.params['a'].stderr,\n",
    "    result.params['x0'].value,result.params['x0'].stderr\n",
    "));"
   ]
  },
  {
   "cell_type": "markdown",
   "metadata": {
    "heading_collapsed": true
   },
   "source": [
    "# Fitting a Chemical Reaction Network"
   ]
  },
  {
   "cell_type": "code",
   "execution_count": 245,
   "metadata": {
    "collapsed": true,
    "hidden": true
   },
   "outputs": [],
   "source": [
    "# The network\n",
    "\n",
    "species = var(\"x y z\")\n",
    "params = var(\"k1 k2\")\n",
    "v = make_vectorizer(species)\n",
    "rxns = [\n",
    "    [v(x,y),v(z),k1], # X+Y -k1-> Z\n",
    "    [v(z,z),v(x),k2]  # 2Z -k2-> X\n",
    "]\n",
    "dyn = Dynamics(rxns,species)"
   ]
  },
  {
   "cell_type": "code",
   "execution_count": null,
   "metadata": {
    "hidden": true
   },
   "outputs": [],
   "source": [
    "# Some fake data\n",
    "\n",
    "f = ODEs(dyn.subs([(k1,1),(k2,1)]),species)\n",
    "tdata = np.linspace(0,5,10)\n",
    "xdata = spi.odeint(f,[3,2,1],tdata);\n",
    "noise = lambda : [0.15*np.random.random() for i in [1,2,3]]\n",
    "xdata = np.array([v+noise() for v in xdata])\n",
    "plt.scatter(tdata,xdata[:,0])\n",
    "plt.scatter(tdata,xdata[:,1])\n",
    "plt.scatter(tdata,xdata[:,2]);"
   ]
  },
  {
   "cell_type": "code",
   "execution_count": null,
   "metadata": {
    "hidden": true
   },
   "outputs": [],
   "source": [
    "# define a residual fit the data\n",
    "\n",
    "from lmfit import minimize, Parameters\n",
    "\n",
    "def residual(pars,t,x):\n",
    "    params = pars.valuesdict()\n",
    "    f = ODEs(dyn.subs(k1,params[\"k1\"]).subs(k2,params[\"k2\"]),species)\n",
    "    v0 = [params[\"x0\"],params[\"y0\"],params[\"z0\"]]\n",
    "    sol = spi.odeint(f,v0,t)\n",
    "    # make a list of errors for all species and all time points\n",
    "    errs  = [ a - b for a,b in zip(sol[:,0],x[:,0]) ] # X\n",
    "    errs += [ a - b for a,b in zip(sol[:,1],x[:,1]) ] # Y\n",
    "    errs += [ a - b for a,b in zip(sol[:,1],x[:,1]) ] # Z\n",
    "    return errs\n",
    "\n",
    "params = Parameters()\n",
    "params.add('k1', value=1, min=0.0)\n",
    "params.add('k2', value=1, min=0.0)\n",
    "params.add('x0', value=1, min=0.0)\n",
    "params.add('y0', value=1, min=0.0)\n",
    "params.add('z0', value=1, min=0.0)\n",
    "    \n",
    "result = minimize(residual,params,args=(tdata,xdata))\n",
    "\n",
    "result.params"
   ]
  },
  {
   "cell_type": "code",
   "execution_count": null,
   "metadata": {
    "hidden": true
   },
   "outputs": [],
   "source": [
    "# plot the result\n",
    "\n",
    "param_vals = [(k1,result.params['k1']),(k2,result.params['k2'])]\n",
    "x0 = [ result.params[w] for w in [ 'x0', 'y0', 'z0' ] ]\n",
    "f = ODEs(dyn.subs(param_vals),species)\n",
    "t = np.linspace(0,max(tdata),100)\n",
    "x = spi.odeint(f,x0,t);\n",
    "plots = plt.plot(t,x);\n",
    "plt.scatter(tdata,xdata[:,0])\n",
    "plt.scatter(tdata,xdata[:,1])\n",
    "plt.scatter(tdata,xdata[:,2]);\n",
    "plt.xlabel('$t$');\n",
    "plt.ylabel('$concentrations$');\n",
    "plt.legend(plots,species);"
   ]
  },
  {
   "cell_type": "code",
   "execution_count": null,
   "metadata": {
    "hidden": true
   },
   "outputs": [],
   "source": [
    "result.params['k1'].stderr"
   ]
  },
  {
   "cell_type": "markdown",
   "metadata": {
    "collapsed": true
   },
   "source": [
    "# Working With Replicates"
   ]
  },
  {
   "cell_type": "code",
   "execution_count": 250,
   "metadata": {
    "collapsed": true
   },
   "outputs": [],
   "source": [
    "# Another network\n",
    "species = var(\"x y\")\n",
    "params = var(\"k1 k2 k3 k4\")\n",
    "v = make_vectorizer(species)\n",
    "rxns = [\n",
    "    [v(),v(x),k1], \n",
    "    [v(x),v(),k2],\n",
    "    [v(x),v(y),k3],\n",
    "    [v(x,x,y),v(x,x,x),k4]\n",
    "]\n",
    "dyn = Dynamics(rxns,species)"
   ]
  },
  {
   "cell_type": "code",
   "execution_count": null,
   "metadata": {},
   "outputs": [],
   "source": [
    "# Some fake data\n",
    "\n",
    "f = ODEs(dyn.subs([(k1,1),(k2,1),(k3,3),(k4,1)]),species)\n",
    "tdata = np.linspace(0,10,14)\n",
    "xdata = spi.odeint(f,[1,1],tdata);\n",
    "\n",
    "noise = lambda e : [e*(np.random.random()-0.5) for i in [1,2]]\n",
    "\n",
    "ydata1 = np.array([v+noise(2) for v in xdata])[:,1]\n",
    "ydata2 = np.array([v+noise(3) for v in xdata])[:,1]\n",
    "ydata3 = np.array([v+noise(4) for v in xdata])[:,1]\n",
    "\n",
    "means = ( ydata1 + ydata2 + ydata3 ) / 3\n",
    "stdevs = np.sqrt(( (ydata1 - means)**2 + (ydata2 - means)**2 + (ydata3 - means)**2 ) / 2)\n",
    "stderrs = stdevs/np.sqrt(3)\n",
    "\n",
    "plt.errorbar(tdata,means,stderrs, fmt='o')\n",
    "plt.xlabel(\"time\")\n",
    "plt.ylabel(\"concentration of y\")\n",
    "plt.title(\"Measured Data\");\n",
    "\n",
    "print(\"t\\t| y\\t| error\")\n",
    "print(\"--------------------------\")\n",
    "[print(\"%0.2f\\t| %0.2f\\t| %0.2f\" % (t,m,e)) for t,m,e in zip(tdata,means,stderrs)];"
   ]
  },
  {
   "cell_type": "code",
   "execution_count": null,
   "metadata": {},
   "outputs": [],
   "source": [
    "# define a residual and fit the data\n",
    "\n",
    "from lmfit import minimize, Parameters\n",
    "\n",
    "def residual(pars,t,x,stderrs):\n",
    "    params = pars.valuesdict()\n",
    "    f = ODEs(dyn\n",
    "             .subs(k1,params[\"k1\"])\n",
    "             .subs(k2,params[\"k2\"])\n",
    "             .subs(k3,params[\"k3\"])\n",
    "             .subs(k4,params[\"k4\"]),species)\n",
    "    v0 = [params[\"x0\"],params[\"y0\"]]\n",
    "    sol = spi.odeint(f,v0,t)\n",
    "    errs  = np.array([ ( a - b )/e  for a,b,e in zip(sol[0:,1],x,stderrs) ])\n",
    "    return errs\n",
    "\n",
    "params = Parameters()\n",
    "\n",
    "params.add('k1', value=1, min=0.0, max=10)\n",
    "params.add('k2', value=1, min=0.0, max=10)\n",
    "params.add('k3', value=1, min=0.0, max=10)\n",
    "params.add('k4', value=1, min=0.0, max=10)\n",
    "params.add('x0', value=1, min=0.0, max=10)\n",
    "params.add('y0', value=1, min=0.0, max=10)\n",
    "    \n",
    "result = minimize(residual,params,args=(tdata,means,stderrs)) #,method='differential_evolution')\n",
    "\n",
    "result.params"
   ]
  },
  {
   "cell_type": "code",
   "execution_count": null,
   "metadata": {},
   "outputs": [],
   "source": [
    "param_vals = [\n",
    "    (k1,result.params['k1']),\n",
    "    (k2,result.params['k2']),\n",
    "    (k3,result.params['k3']),\n",
    "    (k4,result.params['k4'])]\n",
    "\n",
    "actual_param_vals = [\n",
    "    (k1,1),\n",
    "    (k2,1),\n",
    "    (k3,3),\n",
    "    (k4,1)]\n",
    "\n",
    "x0 = [ result.params[w] for w in [ 'x0', 'y0' ] ]\n",
    "f = ODEs(dyn.subs(param_vals),species)\n",
    "fa = ODEs(dyn.subs(actual_param_vals),species)\n",
    "t = np.linspace(0,max(tdata),100)\n",
    "x = spi.odeint(f,x0,t);\n",
    "xa = spi.odeint(fa,[1,1],t);\n",
    "plt.plot(t,x[:,1],label=\"Model\")\n",
    "plt.plot(t,xa[:,1],label=\"Actual\");\n",
    "plt.errorbar(tdata,means,stderrs, fmt='o',label=\"Data\")\n",
    "plt.xlabel('$t$');\n",
    "plt.ylabel('$y$');\n",
    "plt.legend();"
   ]
  },
  {
   "cell_type": "code",
   "execution_count": null,
   "metadata": {},
   "outputs": [],
   "source": [
    "def cov2corr( A ):\n",
    "    \"\"\"\n",
    "    covariance matrix to correlation matrix.\n",
    "    \"\"\"\n",
    "    d = np.sqrt(A.diagonal())\n",
    "    A = ((A.T/d).T)/d\n",
    "    #A[ np.diag_indices(A.shape[0]) ] = np.ones( A.shape[0] )\n",
    "    return A\n",
    "\n",
    "cor = cov2corr(result.covar)\n",
    "\n",
    "# https://matplotlib.org/tutorials/colors/colormaps.html\n",
    "plt.imshow(cor,cmap='coolwarm', vmin=-1, vmax=1)\n",
    "plt.xticks(range(6),[\"k1\",\"k2\",\"k3\",\"k4\",\"x0\",\"y0\"])\n",
    "plt.yticks(range(6),[\"k1\",\"k2\",\"k3\",\"k4\",\"x0\",\"y0\"])\n",
    "\n",
    "for i in range(6):\n",
    "    print(\"\\t\".join([\"%.3f\" % c for c in cor[i]]))"
   ]
  },
  {
   "cell_type": "markdown",
   "metadata": {
    "collapsed": true
   },
   "source": [
    "# Example with Real Data"
   ]
  },
  {
   "cell_type": "code",
   "execution_count": null,
   "metadata": {},
   "outputs": [],
   "source": [
    "# Get data from course Github repo\n",
    "!git clone https://github.com/klavins/ECE424.git"
   ]
  },
  {
   "cell_type": "code",
   "execution_count": 6,
   "metadata": {},
   "outputs": [],
   "source": [
    "# Read data into variables\n",
    "k1 = np.genfromtxt('ECE424/data/KineticsLayer1.csv', delimiter=',')\n",
    "k2 = np.genfromtxt('ECE424/data/KineticsLayer2.csv', delimiter=',')\n",
    "k3 = np.genfromtxt('ECE424/data/KineticsLayer3.csv', delimiter=',')\n",
    "k4 = np.genfromtxt('ECE424/data/KineticsLayer4.csv', delimiter=',')\n",
    "\n",
    "# Note: First column is time, second is mean fluorescence, but the\n",
    "# entries are not in order. So first we sort them.\n",
    "K1 = k1[k1[:,0].argsort()]\n",
    "K2 = k2[k2[:,0].argsort()]\n",
    "K3 = k3[k3[:,0].argsort()]\n",
    "K4 = k4[k4[:,0].argsort()]"
   ]
  },
  {
   "cell_type": "code",
   "execution_count": null,
   "metadata": {},
   "outputs": [],
   "source": [
    "# Visualize\n",
    "plt.plot(K1[:,0],K1[:,1], label=\"1 layer\")\n",
    "plt.plot(K2[:,0],K2[:,1], label=\"2 layers\")\n",
    "plt.plot(K3[:,0],K3[:,1], label=\"3 layers\")\n",
    "plt.plot(K4[:,0],K4[:,1], label=\"4 layers\");\n",
    "plt.xlabel(\"Time (min)\")\n",
    "plt.ylabel(\"Fluorescence (arbitrary units)\")\n",
    "plt.legend();"
   ]
  },
  {
   "cell_type": "markdown",
   "metadata": {},
   "source": [
    "# One Layer"
   ]
  },
  {
   "cell_type": "code",
   "execution_count": null,
   "metadata": {},
   "outputs": [],
   "source": [
    "# \n",
    "# Fitting one layer\n",
    "#\n",
    "tdata = K1[:,0]\n",
    "pdata = K1[:,1]\n",
    "r10 = 0\n",
    "p0 = K1[:,1][0]\n",
    "\n",
    "def make_f(p):\n",
    "\n",
    "    def f(x,t):\n",
    "        r1,protein = x\n",
    "        return [\n",
    "            p['a'] - p['br'] * r1,\n",
    "            p['vp'] / ( p['kp'] + r1**p['n'] ) - p['bp']*protein\n",
    "        ]\n",
    "    \n",
    "    return f\n",
    "\n",
    "def residual(params,t,x):    \n",
    "    xsol = spi.odeint(make_f(params),[r10,p0],t)\n",
    "    errs = [ a - b for a,b in zip(xsol[:,1],x)]\n",
    "    return np.array(errs).flatten()\n",
    "\n",
    "p = Parameters()\n",
    "p.add('a',  value=1,min=0)\n",
    "p.add('n',  value=1,min=0)\n",
    "p.add('vp', value=1,min=0)\n",
    "p.add('bp', value=1,min=0)\n",
    "p.add('br', value=1,min=0)\n",
    "p.add('kp', value=1,min=0)\n",
    "\n",
    "result = minimize(residual,p,args=(tdata,pdata))\n",
    "tvals = np.linspace(0,max(tdata),100)\n",
    "x = spi.odeint(make_f(result.params),[r10,p0],tvals)\n",
    "\n",
    "plt.plot(tvals,x[:,1])\n",
    "plt.scatter(tdata,pdata);\n",
    "result"
   ]
  },
  {
   "cell_type": "code",
   "execution_count": null,
   "metadata": {},
   "outputs": [],
   "source": [
    "plt.plot(residual(result.params,tdata,pdata));"
   ]
  },
  {
   "cell_type": "markdown",
   "metadata": {
    "heading_collapsed": true
   },
   "source": [
    "# Two Layers"
   ]
  },
  {
   "cell_type": "code",
   "execution_count": 144,
   "metadata": {
    "hidden": true
   },
   "outputs": [
    {
     "name": "stderr",
     "output_type": "stream",
     "text": [
      "/anaconda/lib/python3.6/site-packages/scipy/integrate/odepack.py:218: ODEintWarning: Excess work done on this call (perhaps wrong Dfun type). Run with full_output = 1 to get quantitative information.\n",
      "  warnings.warn(warning_msg, ODEintWarning)\n",
      "/anaconda/lib/python3.6/site-packages/scipy/integrate/odepack.py:218: ODEintWarning: Illegal input detected (internal error). Run with full_output = 1 to get quantitative information.\n",
      "  warnings.warn(warning_msg, ODEintWarning)\n",
      "/anaconda/lib/python3.6/site-packages/scipy/integrate/odepack.py:218: ODEintWarning: Excess work done on this call (perhaps wrong Dfun type). Run with full_output = 1 to get quantitative information.\n",
      "  warnings.warn(warning_msg, ODEintWarning)\n",
      "/anaconda/lib/python3.6/site-packages/numdifftools/limits.py:182: FutureWarning: arrays to stack must be passed as a \"sequence\" type such as list or tuple. Support for non-sequence iterables such as generators is deprecated as of NumPy 1.16 and will raise an error in the future.\n",
      "  f_del = np.vstack(list(np.ravel(r)) for r in sequence)\n",
      "/anaconda/lib/python3.6/site-packages/numdifftools/limits.py:184: FutureWarning: arrays to stack must be passed as a \"sequence\" type such as list or tuple. Support for non-sequence iterables such as generators is deprecated as of NumPy 1.16 and will raise an error in the future.\n",
      "  for step in steps)\n"
     ]
    },
    {
     "data": {
      "text/html": [
       "<h2>Fit Statistics</h2><table><tr><td>fitting method</td><td>differential_evolution</td><td></td></tr><tr><td># function evals</td><td>7160</td><td></td></tr><tr><td># data points</td><td>48</td><td></td></tr><tr><td># variables</td><td>9</td><td></td></tr><tr><td>chi-square</td><td> 79006466.4</td><td></td></tr><tr><td>reduced chi-square</td><td> 2025806.83</td><td></td></tr><tr><td>Akaike info crit.</td><td> 705.064284</td><td></td></tr><tr><td>Bayesian info crit.</td><td> 721.905093</td><td></td></tr></table><h2>Variables</h2><table><tr><th> name </th><th> value </th><th> initial value </th><th> min </th><th> max </th><th> vary </th></tr><tr><td> a </td><td>  519.835973 </td><td> 41.39804670812389 </td><td>  0.00000000 </td><td>  1000.00000 </td><td> True </td></tr><tr><td> n </td><td>  3.97550440 </td><td> 1 </td><td>  0.00000000 </td><td>  4.00000000 </td><td> True </td></tr><tr><td> vp </td><td>  895.053039 </td><td> 48.50060424677586 </td><td>  0.00000000 </td><td>  1000.00000 </td><td> True </td></tr><tr><td> vr </td><td>  79.8478244 </td><td> 14.018050840860097 </td><td>  0.00000000 </td><td>  1000.00000 </td><td> True </td></tr><tr><td> bp </td><td>  0.00191892 </td><td> 69.88494345831401 </td><td>  0.00000000 </td><td>  1000.00000 </td><td> True </td></tr><tr><td> br </td><td>  1.59787989 </td><td> 11.175510843638259 </td><td>  0.00000000 </td><td>  1000.00000 </td><td> True </td></tr><tr><td> kp </td><td>  11.7088564 </td><td> 47.349115949892784 </td><td>  0.00000000 </td><td>  1000.00000 </td><td> True </td></tr><tr><td> kr </td><td>  851.164656 </td><td> 4.669757970466315 </td><td>  0.00000000 </td><td>  1000.00000 </td><td> True </td></tr><tr><td> r20 </td><td>  1.64722758 </td><td> 37.746068919888145 </td><td>  0.00000000 </td><td>  10000.0000 </td><td> True </td></tr></table>"
      ],
      "text/plain": [
       "<lmfit.minimizer.MinimizerResult at 0x121bf8748>"
      ]
     },
     "execution_count": 144,
     "metadata": {},
     "output_type": "execute_result"
    },
    {
     "data": {
      "image/png": "[encoded data removed]",
      "text/plain": [
       "<matplotlib.figure.Figure at 0x121c83208>"
      ]
     },
     "metadata": {},
     "output_type": "display_data"
    }
   ],
   "source": [
    "#\n",
    "# Fitting two layers\n",
    "#\n",
    "\n",
    "t1data = K1[:,0]\n",
    "p1data = K1[:,1]\n",
    "\n",
    "t2data = K2[:,0]\n",
    "p2data = K2[:,1]\n",
    "\n",
    "r10 = 0\n",
    "p10 = K1[:,1][0]\n",
    "p20 = K2[:,1][0]\n",
    "\n",
    "def make_f1(p):\n",
    "\n",
    "    def f(x,t):\n",
    "        r1,protein = x\n",
    "        return [\n",
    "            p['a'] - p['br'] * r1,\n",
    "            p['vp'] / ( p['kp'] + r1**p['n'] ) - p['bp']*protein\n",
    "        ]\n",
    "    \n",
    "    return f\n",
    "\n",
    "def make_f2(p):\n",
    "\n",
    "    def f(x,t):\n",
    "        r1,r2,protein = x\n",
    "        return [\n",
    "            p['a'] - p['br'] * r1,\n",
    "            p['vr'] / ( p['kr'] + r1**p['n'] ) - p['br'] * r2,\n",
    "            p['vp'] / ( p['kp'] + r2**p['n'] ) - p['bp']*protein\n",
    "        ]\n",
    "    \n",
    "    return f\n",
    "\n",
    "def residual(params):\n",
    "    \n",
    "    x1 = spi.odeint(make_f1(params),[r10,p10],t1data)\n",
    "    e1 = [ a - b for a,b in zip(x1[:,1],p1data)]\n",
    "    \n",
    "    x2 = spi.odeint(make_f2(params),[r10,p['r20'],p20],t2data)\n",
    "    e2 = [ a - b for a,b in zip(x2[:,2],p2data)]    \n",
    "    \n",
    "    return np.nan_to_num(np.array(e1+e2).flatten())\n",
    "\n",
    "def r():\n",
    "    return 100*np.random.random()\n",
    "p = Parameters()\n",
    "\n",
    "p.add('a',  value=r(), min=0, max=1000)\n",
    "p.add('n',  value=1, min=0,max=4)\n",
    "p.add('vp', value=r(), min=0, max=1000)\n",
    "p.add('vr', value=r(), min=0, max=1000)\n",
    "p.add('bp', value=r(), min=0, max=1000)\n",
    "p.add('br', value=r(), min=0, max=1000)\n",
    "p.add('kp', value=r(), min=0, max=1000)\n",
    "p.add('kr', value=r(), min=0, max=1000)\n",
    "p.add('r20',value=r(), min=0, max=10000)\n",
    "\n",
    "result = minimize(residual,p,method='differential_evolution')\n",
    "tvals = np.linspace(0,max(t1data),100)\n",
    "x1 = spi.odeint(make_f1(result.params),[r10,p10],tvals)\n",
    "x2 = spi.odeint(make_f2(result.params),[r10,result.params['r20'],p20],tvals)\n",
    "plt.plot(tvals,x1[:,1])\n",
    "plt.plot(tvals,x2[:,2])\n",
    "plt.scatter(t1data,p1data);\n",
    "plt.scatter(t2data,p2data);\n",
    "result"
   ]
  },
  {
   "cell_type": "code",
   "execution_count": 145,
   "metadata": {
    "hidden": true
   },
   "outputs": [
    {
     "data": {
      "text/plain": [
       "[<matplotlib.lines.Line2D at 0x12247d240>]"
      ]
     },
     "execution_count": 145,
     "metadata": {},
     "output_type": "execute_result"
    },
    {
     "data": {
      "image/png": "[encoded data removed]",
      "text/plain": [
       "<matplotlib.figure.Figure at 0x120c229e8>"
      ]
     },
     "metadata": {},
     "output_type": "display_data"
    }
   ],
   "source": [
    "plt.plot(residual(result.params))"
   ]
  },
  {
   "cell_type": "code",
   "execution_count": 146,
   "metadata": {
    "hidden": true
   },
   "outputs": [
    {
     "data": {
      "image/png": "[encoded data removed]",
      "text/plain": [
       "<matplotlib.figure.Figure at 0x121d696d8>"
      ]
     },
     "metadata": {},
     "output_type": "display_data"
    }
   ],
   "source": [
    "plt.plot(tvals,x1[:,0]); # r1 level"
   ]
  },
  {
   "cell_type": "code",
   "execution_count": 148,
   "metadata": {
    "hidden": true
   },
   "outputs": [
    {
     "data": {
      "image/png": "[encoded data removed]",
      "text/plain": [
       "<matplotlib.figure.Figure at 0x122212048>"
      ]
     },
     "metadata": {},
     "output_type": "display_data"
    }
   ],
   "source": [
    "plt.plot(tvals,x2[:,0]); # r1 level\n",
    "plt.plot(tvals,x2[:,1]); # r2 level"
   ]
  },
  {
   "cell_type": "code",
   "execution_count": null,
   "metadata": {
    "collapsed": true,
    "hidden": true
   },
   "outputs": [],
   "source": []
  }
 ],
 "metadata": {
  "kernelspec": {
   "display_name": "Python 3",
   "language": "python",
   "name": "python3"
  },
  "language_info": {
   "codemirror_mode": {
    "name": "ipython",
    "version": 3
   },
   "file_extension": ".py",
   "mimetype": "text/x-python",
   "name": "python",
   "nbconvert_exporter": "python",
   "pygments_lexer": "ipython3",
   "version": "3.6.1"
  },
  "latex_envs": {
   "LaTeX_envs_menu_present": true,
   "autoclose": false,
   "autocomplete": true,
   "bibliofile": "biblio.bib",
   "cite_by": "apalike",
   "current_citInitial": 1,
   "eqLabelWithNumbers": true,
   "eqNumInitial": 1,
   "hotkeys": {
    "equation": "Ctrl-E",
    "itemize": "Ctrl-I"
   },
   "labels_anchors": false,
   "latex_user_defs": false,
   "report_style_numbering": false,
   "user_envs_cfg": false
  }
 },
 "nbformat": 4,
 "nbformat_minor": 2
}
