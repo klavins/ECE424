{
 "cells": [
  {
   "cell_type": "markdown",
   "metadata": {
    "heading_collapsed": true
   },
   "source": [
    "# Code"
   ]
  },
  {
   "cell_type": "code",
   "execution_count": 1,
   "metadata": {
    "collapsed": true,
    "hidden": true
   },
   "outputs": [],
   "source": [
    "import numpy as np\n",
    "import scipy.integrate as spi\n",
    "from scipy.optimize import leastsq\n",
    "import matplotlib.pyplot as plt\n",
    "from sympy import *\n",
    "\n",
    "%matplotlib inline\n",
    "\n",
    "# Comment out in Google colab \n",
    "init_printing(use_latex='mathjax')\n",
    "\n",
    "# Uncomment in below Google colab to render sympy equations nicely\n",
    "# def custom_latex_printer(exp,**options):\n",
    "#     from google.colab.output._publish import javascript\n",
    "#     url = \"https://cdnjs.cloudflare.com/ajax/libs/mathjax/2.7.3/latest.js?config=default\"\n",
    "#     javascript(url=url)\n",
    "#     return printing.latex(exp,**options)\n",
    "# init_printing(use_latex=\"mathjax\",latex_printer=custom_latex_printer)\n",
    "\n",
    "def StoichiometricMatix(rxns):\n",
    "    \"\"\"Returns the stoichiometric matrix for the given reactions.\n",
    "       It is assumed that the reactions are in a list of reactions\n",
    "       each ofthe form\n",
    "          [ar, ap, rate_constant]\n",
    "       where ar is the reactant vector and ap is the product vector.\n",
    "    \"\"\"\n",
    "    vectors = [(-Matrix(a[0]) + Matrix(a[1])) for a in rxns]\n",
    "    A = Matrix(vectors[0])\n",
    "    for i in range(1,len(vectors)):\n",
    "        A = A.col_insert(i,vectors[i])\n",
    "    return A\n",
    "\n",
    "def MAK(a,syms):\n",
    "    \"\"\"The mass action kinetics rate for the reaction a [ ar, ap, k ].\n",
    "       syms should be a list of sympy symbols such as returned by var(\"x y z\")\"\"\"\n",
    "    rate = a[2] # k\n",
    "    for r,s in zip(a[0],syms):\n",
    "        rate = rate * s**r\n",
    "    return rate\n",
    "\n",
    "def KineticsVector(rxns,syms):\n",
    "    \"\"\"Builds the kinetics vector for the given reactions\"\"\"\n",
    "    return Matrix([MAK(a,syms) for a in rxns])\n",
    "\n",
    "def Dynamics(rxns,syms):\n",
    "    \"\"\"Builds the right hand side of the equation dv/dt = AK(v)\"\"\"\n",
    "    return StoichiometricMatix(rxns) * KineticsVector(rxns,syms)\n",
    "\n",
    "def ODEs(dynamics,syms):\n",
    "    \"\"\"Convertns the dynamics into a function that can be used with scipy's odeint function\"\"\"\n",
    "    faux = lambdify([syms],dynamics,'numpy')\n",
    "    def f(x,t):\n",
    "        return faux(x).flatten()\n",
    "    return f\n",
    "\n",
    "def vectorize(species,names):\n",
    "    a = [0 for s in species]\n",
    "    for name in names:\n",
    "        a[species.index(name)] += 1\n",
    "    return a\n",
    "\n",
    "def make_vectorizer(species):\n",
    "    def f(*args):\n",
    "        return vectorize(species, args)\n",
    "    return f"
   ]
  },
  {
   "cell_type": "markdown",
   "metadata": {
    "heading_collapsed": true
   },
   "source": [
    "# Fitting a Line"
   ]
  },
  {
   "cell_type": "code",
   "execution_count": 2,
   "metadata": {
    "hidden": true
   },
   "outputs": [
    {
     "data": {
      "image/png": "[encoded data removed]",
      "text/plain": [
       "<matplotlib.figure.Figure at 0x11494c5f8>"
      ]
     },
     "metadata": {},
     "output_type": "display_data"
    }
   ],
   "source": [
    "from lmfit import minimize, Parameters\n",
    "\n",
    "xdata = np.sort([np.random.random()*10 for i in range(10)])\n",
    "ydata = [5+5*np.random.random() + 2*x for x in xdata] \n",
    "\n",
    "def line(x,params):\n",
    "    return params['m']*x+params['b']\n",
    "\n",
    "def residual(params,f,x,y):\n",
    "    return [ f(q[0],params) - q[1] for q in zip(x,y) ]\n",
    "\n",
    "p = Parameters()\n",
    "p.add('m', value=0)\n",
    "p.add('b', value=0)\n",
    "\n",
    "result = minimize(residual,p,args=(line,xdata,ydata))\n",
    "\n",
    "xvals = np.linspace(0,max(xdata),10)\n",
    "plt.plot(xvals,line(xvals,result.params));\n",
    "plt.scatter(xdata,ydata);\n",
    "plt.title(\"m = %.2f $\\pm$ %.2f\\nb = %.2f $\\pm$ %.2f\" % (\n",
    "    result.params['m'].value,result.params['m'].stderr,\n",
    "    result.params['b'].value,result.params['b'].stderr\n",
    "));\n",
    "# result"
   ]
  },
  {
   "cell_type": "markdown",
   "metadata": {
    "heading_collapsed": true
   },
   "source": [
    "# Fitting an ODE"
   ]
  },
  {
   "cell_type": "code",
   "execution_count": 112,
   "metadata": {
    "hidden": true
   },
   "outputs": [
    {
     "name": "stdout",
     "output_type": "stream",
     "text": [
      "-1.0584289607331705 2.132183998789948\n"
     ]
    },
    {
     "data": {
      "image/png": "[encoded data removed]",
      "text/plain": [
       "<matplotlib.figure.Figure at 0x11c168cc0>"
      ]
     },
     "metadata": {},
     "output_type": "display_data"
    }
   ],
   "source": [
    "tdata = np.linspace(0,5,10)\n",
    "a = -1-0.1*np.random.random()\n",
    "x0 = 5 * np.random.random() + 1\n",
    "print(a,x0)\n",
    "eps = -a/2\n",
    "xdata = [np.exp(a*t)*x0 + eps*(np.random.random() - 0.5) for t in tdata] \n",
    "\n",
    "def residual(params,t,x):\n",
    "    f = lambda x, t : params['a']*x\n",
    "    xsol = spi.odeint(f,[params['x0']],t)\n",
    "    errs = [ a - b for a,b in zip(xsol,x)]\n",
    "    return np.array(errs).flatten()\n",
    "\n",
    "p = Parameters()\n",
    "p.add('a', value=-1,max=0)\n",
    "p.add('x0', value=1)\n",
    "\n",
    "result = minimize(residual,p,args=(tdata,xdata))\n",
    "\n",
    "tvals = np.linspace(0,max(tdata),420)\n",
    "plt.plot(tvals,result.params['x0']*np.exp(result.params['a'] * tvals))\n",
    "plt.scatter(tdata,xdata);\n",
    "plt.title(\"a = %.2f $\\pm$ %.2f\\nx0 = %.2f $\\pm$ %.2f\" % (\n",
    "    result.params['a'].value, result.params['a'].stderr,\n",
    "    result.params['x0'].value,result.params['x0'].stderr\n",
    "));"
   ]
  },
  {
   "cell_type": "markdown",
   "metadata": {
    "heading_collapsed": true
   },
   "source": [
    "# Fitting a Chemical Reaction Network"
   ]
  },
  {
   "cell_type": "code",
   "execution_count": 245,
   "metadata": {
    "collapsed": true,
    "hidden": true
   },
   "outputs": [],
   "source": [
    "# The network\n",
    "\n",
    "species = var(\"x y z\")\n",
    "params = var(\"k1 k2\")\n",
    "v = make_vectorizer(species)\n",
    "rxns = [\n",
    "    [v(x,y),v(z),k1], # X+Y -k1-> Z\n",
    "    [v(z,z),v(x),k2]  # 2Z -k2-> X\n",
    "]\n",
    "dyn = Dynamics(rxns,species)"
   ]
  },
  {
   "cell_type": "code",
   "execution_count": 246,
   "metadata": {
    "hidden": true
   },
   "outputs": [
    {
     "data": {
      "image/png": "[encoded data removed]",
      "text/plain": [
       "<matplotlib.figure.Figure at 0x11dbdfb70>"
      ]
     },
     "metadata": {},
     "output_type": "display_data"
    }
   ],
   "source": [
    "# Some fake data\n",
    "\n",
    "f = ODEs(dyn.subs([(k1,1),(k2,1)]),species)\n",
    "tdata = np.linspace(0,5,10)\n",
    "xdata = spi.odeint(f,[3,2,1],tdata);\n",
    "noise = lambda : [0.15*np.random.random() for i in [1,2,3]]\n",
    "xdata = np.array([v+noise() for v in xdata])\n",
    "plt.scatter(tdata,xdata[:,0])\n",
    "plt.scatter(tdata,xdata[:,1])\n",
    "plt.scatter(tdata,xdata[:,2]);"
   ]
  },
  {
   "cell_type": "code",
   "execution_count": 247,
   "metadata": {
    "hidden": true
   },
   "outputs": [
    {
     "data": {
      "text/html": [
       "<table><tr><th> name </th><th> value </th><th> standard error </th><th> relative error </th><th> initial value </th><th> min </th><th> max </th><th> vary </th></tr><tr><td> k1 </td><td>  0.84708279 </td><td>  0.04283763 </td><td> 5.06% </td><td> 1 </td><td>  0.00000000 </td><td>         inf </td><td> True </td></tr><tr><td> k2 </td><td>  0.64992963 </td><td>  0.17103176 </td><td> 26.32% </td><td> 1 </td><td>  0.00000000 </td><td>         inf </td><td> True </td></tr><tr><td> x0 </td><td>  3.10095397 </td><td>  0.05876134 </td><td> 1.89% </td><td> 1 </td><td>  0.00000000 </td><td>         inf </td><td> True </td></tr><tr><td> y0 </td><td>  2.11575117 </td><td>  0.04141255 </td><td> 1.96% </td><td> 1 </td><td>  0.00000000 </td><td>         inf </td><td> True </td></tr><tr><td> z0 </td><td>  1.18508663 </td><td>  0.14855166 </td><td> 12.54% </td><td> 1 </td><td>  0.00000000 </td><td>         inf </td><td> True </td></tr></table>"
      ],
      "text/plain": [
       "Parameters([('k1',\n",
       "  <Parameter 'k1', value=0.84708279077948534 +/- 0.0428, bounds=[0.0:inf]>),\n",
       " ('k2',\n",
       "  <Parameter 'k2', value=0.64992963315353136 +/- 0.171, bounds=[0.0:inf]>),\n",
       " ('x0',\n",
       "  <Parameter 'x0', value=3.1009539685618046 +/- 0.0588, bounds=[0.0:inf]>),\n",
       " ('y0',\n",
       "  <Parameter 'y0', value=2.1157511720994062 +/- 0.0414, bounds=[0.0:inf]>),\n",
       " ('z0',\n",
       "  <Parameter 'z0', value=1.1850866277962973 +/- 0.149, bounds=[0.0:inf]>)])"
      ]
     },
     "execution_count": 247,
     "metadata": {},
     "output_type": "execute_result"
    }
   ],
   "source": [
    "# define a residual fit the data\n",
    "\n",
    "from lmfit import minimize, Parameters\n",
    "\n",
    "def residual(pars,t,x):\n",
    "    params = pars.valuesdict()\n",
    "    f = ODEs(dyn.subs(k1,params[\"k1\"]).subs(k2,params[\"k2\"]),species)\n",
    "    v0 = [params[\"x0\"],params[\"y0\"],params[\"z0\"]]\n",
    "    sol = spi.odeint(f,v0,t)\n",
    "    # make a list of errors for all species and all time points\n",
    "    errs  = [ a - b for a,b in zip(sol[:,0],x[:,0]) ] # X\n",
    "    errs += [ a - b for a,b in zip(sol[:,1],x[:,1]) ] # Y\n",
    "    errs += [ a - b for a,b in zip(sol[:,1],x[:,1]) ] # Z\n",
    "    return errs\n",
    "\n",
    "params = Parameters()\n",
    "params.add('k1', value=1, min=0.0)\n",
    "params.add('k2', value=1, min=0.0)\n",
    "params.add('x0', value=1, min=0.0)\n",
    "params.add('y0', value=1, min=0.0)\n",
    "params.add('z0', value=1, min=0.0)\n",
    "    \n",
    "result = minimize(residual,params,args=(tdata,xdata))\n",
    "\n",
    "result.params"
   ]
  },
  {
   "cell_type": "code",
   "execution_count": 249,
   "metadata": {
    "hidden": true
   },
   "outputs": [
    {
     "data": {
      "image/png": "[encoded data removed]",
      "text/plain": [
       "<matplotlib.figure.Figure at 0x11e001ba8>"
      ]
     },
     "metadata": {},
     "output_type": "display_data"
    }
   ],
   "source": [
    "# plot the result\n",
    "\n",
    "param_vals = [(k1,result.params['k1']),(k2,result.params['k2'])]\n",
    "x0 = [ result.params[w] for w in [ 'x0', 'y0', 'z0' ] ]\n",
    "f = ODEs(dyn.subs(param_vals),species)\n",
    "t = np.linspace(0,max(tdata),100)\n",
    "x = spi.odeint(f,x0,t);\n",
    "plots = plt.plot(t,x);\n",
    "plt.scatter(tdata,xdata[:,0])\n",
    "plt.scatter(tdata,xdata[:,1])\n",
    "plt.scatter(tdata,xdata[:,2]);\n",
    "plt.xlabel('$t$');\n",
    "plt.ylabel('$concentrations$');\n",
    "plt.legend(plots,species);"
   ]
  },
  {
   "cell_type": "code",
   "execution_count": 244,
   "metadata": {
    "hidden": true
   },
   "outputs": [
    {
     "data": {
      "text/latex": [
       "$$0.0608347091039$$"
      ],
      "text/plain": [
       "0.0608347091039"
      ]
     },
     "execution_count": 244,
     "metadata": {},
     "output_type": "execute_result"
    }
   ],
   "source": [
    "result.params['k1'].stderr"
   ]
  },
  {
   "cell_type": "markdown",
   "metadata": {
    "collapsed": true
   },
   "source": [
    "# Working With Replicates"
   ]
  },
  {
   "cell_type": "code",
   "execution_count": 250,
   "metadata": {
    "collapsed": true
   },
   "outputs": [],
   "source": [
    "# Another network\n",
    "species = var(\"x y\")\n",
    "params = var(\"k1 k2 k3 k4\")\n",
    "v = make_vectorizer(species)\n",
    "rxns = [\n",
    "    [v(),v(x),k1], \n",
    "    [v(x),v(),k2],\n",
    "    [v(x),v(y),k3],\n",
    "    [v(x,x,y),v(x,x,x),k4]\n",
    "]\n",
    "dyn = Dynamics(rxns,species)"
   ]
  },
  {
   "cell_type": "code",
   "execution_count": 414,
   "metadata": {},
   "outputs": [
    {
     "name": "stdout",
     "output_type": "stream",
     "text": [
      "t\t| y\t| error\n",
      "--------------------------\n",
      "0.00\t| 1.39\t| 0.40\n",
      "0.77\t| 2.50\t| 0.22\n",
      "1.54\t| 2.69\t| 0.96\n",
      "2.31\t| 3.52\t| 0.92\n",
      "3.08\t| 2.73\t| 0.82\n",
      "3.85\t| 4.52\t| 0.45\n",
      "4.62\t| 4.41\t| 0.81\n",
      "5.38\t| 4.36\t| 0.67\n",
      "6.15\t| 4.10\t| 0.57\n",
      "6.92\t| 0.64\t| 0.47\n",
      "7.69\t| 1.79\t| 0.64\n",
      "8.46\t| 2.33\t| 0.58\n",
      "9.23\t| 2.76\t| 0.43\n",
      "10.00\t| 2.37\t| 0.16\n"
     ]
    },
    {
     "data": {
      "image/png": "[encoded data removed]",
      "text/plain": [
       "<matplotlib.figure.Figure at 0x11ebbf0f0>"
      ]
     },
     "metadata": {},
     "output_type": "display_data"
    }
   ],
   "source": [
    "# Some fake data\n",
    "\n",
    "f = ODEs(dyn.subs([(k1,1),(k2,1),(k3,3),(k4,1)]),species)\n",
    "tdata = np.linspace(0,10,14)\n",
    "xdata = spi.odeint(f,[1,1],tdata);\n",
    "\n",
    "noise = lambda e : [e*(np.random.random()-0.5) for i in [1,2]]\n",
    "\n",
    "ydata1 = np.array([v+noise(2) for v in xdata])[:,1]\n",
    "ydata2 = np.array([v+noise(3) for v in xdata])[:,1]\n",
    "ydata3 = np.array([v+noise(4) for v in xdata])[:,1]\n",
    "\n",
    "means = ( ydata1 + ydata2 + ydata3 ) / 3\n",
    "stdevs = np.sqrt(( (ydata1 - means)**2 + (ydata2 - means)**2 + (ydata3 - means)**2 ) / 2)\n",
    "stderrs = stdevs/np.sqrt(3)\n",
    "\n",
    "plt.errorbar(tdata,means,stderrs, fmt='o')\n",
    "plt.xlabel(\"time\")\n",
    "plt.ylabel(\"concentration of y\")\n",
    "plt.title(\"Measured Data\");\n",
    "\n",
    "print(\"t\\t| y\\t| error\")\n",
    "print(\"--------------------------\")\n",
    "[print(\"%0.2f\\t| %0.2f\\t| %0.2f\" % (t,m,e)) for t,m,e in zip(tdata,means,stderrs)];"
   ]
  },
  {
   "cell_type": "code",
   "execution_count": 415,
   "metadata": {},
   "outputs": [
    {
     "data": {
      "text/html": [
       "<table><tr><th> name </th><th> value </th><th> standard error </th><th> relative error </th><th> initial value </th><th> min </th><th> max </th><th> vary </th></tr><tr><td> k1 </td><td>  0.91029373 </td><td>  0.24527645 </td><td> 26.94% </td><td> 1 </td><td>  0.00000000 </td><td>  10.0000000 </td><td> True </td></tr><tr><td> k2 </td><td>  0.53675087 </td><td>  0.06799226 </td><td> 12.67% </td><td> 1 </td><td>  0.00000000 </td><td>  10.0000000 </td><td> True </td></tr><tr><td> k3 </td><td>  2.08292803 </td><td>  0.67007414 </td><td> 32.17% </td><td> 1 </td><td>  0.00000000 </td><td>  10.0000000 </td><td> True </td></tr><tr><td> k4 </td><td>  0.48981272 </td><td>  0.28395057 </td><td> 57.97% </td><td> 1 </td><td>  0.00000000 </td><td>  10.0000000 </td><td> True </td></tr><tr><td> x0 </td><td>  1.09953405 </td><td>  2.05607569 </td><td> 187.00% </td><td> 1 </td><td>  0.00000000 </td><td>  10.0000000 </td><td> True </td></tr><tr><td> y0 </td><td>  1.54071133 </td><td>  0.41698082 </td><td> 27.06% </td><td> 1 </td><td>  0.00000000 </td><td>  10.0000000 </td><td> True </td></tr></table>"
      ],
      "text/plain": [
       "Parameters([('k1',\n",
       "  <Parameter 'k1', value=0.91029373196670205 +/- 0.245, bounds=[0.0:10]>),\n",
       " ('k2',\n",
       "  <Parameter 'k2', value=0.53675086720095078 +/- 0.068, bounds=[0.0:10]>),\n",
       " ('k3', <Parameter 'k3', value=2.0829280343626038 +/- 0.67, bounds=[0.0:10]>),\n",
       " ('k4',\n",
       "  <Parameter 'k4', value=0.48981272266948761 +/- 0.284, bounds=[0.0:10]>),\n",
       " ('x0', <Parameter 'x0', value=1.0995340473669186 +/- 2.06, bounds=[0.0:10]>),\n",
       " ('y0', <Parameter 'y0', value=1.5407113318526915 +/- 0.417, bounds=[0.0:10]>)])"
      ]
     },
     "execution_count": 415,
     "metadata": {},
     "output_type": "execute_result"
    }
   ],
   "source": [
    "# define a residual and fit the data\n",
    "\n",
    "from lmfit import minimize, Parameters\n",
    "\n",
    "def residual(pars,t,x,stderrs):\n",
    "    params = pars.valuesdict()\n",
    "    f = ODEs(dyn\n",
    "             .subs(k1,params[\"k1\"])\n",
    "             .subs(k2,params[\"k2\"])\n",
    "             .subs(k3,params[\"k3\"])\n",
    "             .subs(k4,params[\"k4\"]),species)\n",
    "    v0 = [params[\"x0\"],params[\"y0\"]]\n",
    "    sol = spi.odeint(f,v0,t)\n",
    "    errs  = np.array([ ( a - b )/e  for a,b,e in zip(sol[0:,1],x,stderrs) ])\n",
    "    return errs\n",
    "\n",
    "params = Parameters()\n",
    "\n",
    "params.add('k1', value=1, min=0.0, max=10)\n",
    "params.add('k2', value=1, min=0.0, max=10)\n",
    "params.add('k3', value=1, min=0.0, max=10)\n",
    "params.add('k4', value=1, min=0.0, max=10)\n",
    "params.add('x0', value=1, min=0.0, max=10)\n",
    "params.add('y0', value=1, min=0.0, max=10)\n",
    "    \n",
    "result = minimize(residual,params,args=(tdata,means,stderrs)) #,method='differential_evolution')\n",
    "\n",
    "result.params"
   ]
  },
  {
   "cell_type": "code",
   "execution_count": 416,
   "metadata": {},
   "outputs": [
    {
     "data": {
      "image/png": "[encoded data removed]",
      "text/plain": [
       "<matplotlib.figure.Figure at 0x11f7dad68>"
      ]
     },
     "metadata": {},
     "output_type": "display_data"
    }
   ],
   "source": [
    "param_vals = [\n",
    "    (k1,result.params['k1']),\n",
    "    (k2,result.params['k2']),\n",
    "    (k3,result.params['k3']),\n",
    "    (k4,result.params['k4'])]\n",
    "\n",
    "actual_param_vals = [\n",
    "    (k1,1),\n",
    "    (k2,1),\n",
    "    (k3,3),\n",
    "    (k4,1)]\n",
    "\n",
    "x0 = [ result.params[w] for w in [ 'x0', 'y0' ] ]\n",
    "f = ODEs(dyn.subs(param_vals),species)\n",
    "fa = ODEs(dyn.subs(actual_param_vals),species)\n",
    "t = np.linspace(0,max(tdata),100)\n",
    "x = spi.odeint(f,x0,t);\n",
    "xa = spi.odeint(fa,[1,1],t);\n",
    "plots = plt.plot(t,x[:,1],t,xa[:,1]);\n",
    "plt.errorbar(tdata,means,stderrs, fmt='o')\n",
    "plt.xlabel('$t$');\n",
    "plt.ylabel('$y$');\n",
    "plt.legend(plots,[\"Model\", \"Actual\"]);"
   ]
  }
 ],
 "metadata": {
  "kernelspec": {
   "display_name": "Python 3",
   "language": "python",
   "name": "python3"
  },
  "language_info": {
   "codemirror_mode": {
    "name": "ipython",
    "version": 3
   },
   "file_extension": ".py",
   "mimetype": "text/x-python",
   "name": "python",
   "nbconvert_exporter": "python",
   "pygments_lexer": "ipython3",
   "version": "3.6.1"
  },
  "latex_envs": {
   "LaTeX_envs_menu_present": true,
   "autoclose": false,
   "autocomplete": true,
   "bibliofile": "biblio.bib",
   "cite_by": "apalike",
   "current_citInitial": 1,
   "eqLabelWithNumbers": true,
   "eqNumInitial": 1,
   "hotkeys": {
    "equation": "Ctrl-E",
    "itemize": "Ctrl-I"
   },
   "labels_anchors": false,
   "latex_user_defs": false,
   "report_style_numbering": false,
   "user_envs_cfg": false
  }
 },
 "nbformat": 4,
 "nbformat_minor": 2
}
