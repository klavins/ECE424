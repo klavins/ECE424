{
 "cells": [
  {
   "cell_type": "markdown",
   "metadata": {},
   "source": [
    "# Reaction Networks"
   ]
  },
  {
   "cell_type": "code",
   "execution_count": 1,
   "metadata": {
    "collapsed": true
   },
   "outputs": [],
   "source": [
    "import numpy as np\n",
    "import scipy.integrate as spi\n",
    "import matplotlib.pyplot as plt\n",
    "from sympy import *\n",
    "from functools import reduce \n",
    "\n",
    "%matplotlib inline\n",
    "\n",
    "init_printing(use_latex='mathjax')\n",
    "\n",
    "# Deterministic Reaction Networks\n",
    "\n",
    "def StoichiometricMatix(rxns):\n",
    "    \"\"\"Returns the stoichiometric matrix for the given reactions.\n",
    "       It is assumed that the reactions are in a list of reactions\n",
    "       each ofthe form\n",
    "          [ar, ap, rate_constant]\n",
    "       where ar is the reactant vector and ap is the product vector.\n",
    "    \"\"\"\n",
    "    vectors = [(-Matrix(a[0]) + Matrix(a[1])) for a in rxns]\n",
    "    A = Matrix(vectors[0])\n",
    "    for i in range(1,len(vectors)):\n",
    "        A = A.col_insert(i,vectors[i])\n",
    "    return A\n",
    "\n",
    "def MAK(a,species):\n",
    "    \"\"\"The mass action kinetics rate for the reaction a [ ar, ap, k ].\n",
    "       syms should be a list of sympy symbols such as returned by var(\"x y z\")\"\"\"\n",
    "    rate = a[2] # k\n",
    "    for r,s in zip(a[0],species):\n",
    "        rate = rate * s**r\n",
    "    return rate\n",
    "\n",
    "def KineticsVector(rxns,species):\n",
    "    \"\"\"Builds the kinetics vector for the given reactions\"\"\"\n",
    "    return Matrix([MAK(a,species) for a in rxns])\n",
    "\n",
    "def Dynamics(rxns,species):\n",
    "    \"\"\"Builds the right hand side of the equation dv/dt = AK(v)\"\"\"\n",
    "    return StoichiometricMatix(rxns) * KineticsVector(rxns,species)\n",
    "\n",
    "def ODEs(dynamics,species):\n",
    "    \"\"\"Convertns the dynamics into a function that can be used with scipy's odeint function\"\"\"\n",
    "    faux = lambdify([species],dynamics,'numpy')\n",
    "    def f(x,t):\n",
    "        return faux(x).flatten()\n",
    "    return f\n",
    "\n",
    "def vectorize(species,names):\n",
    "    a = [0 for s in species]\n",
    "    for name in names:\n",
    "        a[species.index(name)] += 1\n",
    "    return a\n",
    "\n",
    "def make_vectorizer(species):\n",
    "    def f(*args):\n",
    "        return vectorize(species, args)\n",
    "    return f"
   ]
  },
  {
   "cell_type": "markdown",
   "metadata": {},
   "source": [
    "# Stochastic Networks"
   ]
  },
  {
   "cell_type": "code",
   "execution_count": 543,
   "metadata": {},
   "outputs": [],
   "source": [
    "class ReactionNetwork:\n",
    "    \n",
    "    def __init__(self,names):\n",
    "        self.names = names\n",
    "        self.n = len(self.names)\n",
    "        self.species = var(names)\n",
    "        self.m = self.moment_vector()\n",
    "        self.rxns = []\n",
    "        \n",
    "    def vectorize(self,parts):\n",
    "        a = [0 for s in self.species]\n",
    "        for part in parts:\n",
    "            a[self.species.index(part)] += 1\n",
    "        return a\n",
    "\n",
    "    def make_vectorizer(self):\n",
    "        def f(*args):\n",
    "            return self.vectorize(args)\n",
    "        return f        \n",
    "\n",
    "    def moment_vector(self):\n",
    "        m = [var(\"m_\" + name) for name in self.names]\n",
    "        for i in range(self.n):\n",
    "            for j in range(i+1):\n",
    "                m.append(var(\"m_\" + self.names[i] + self.names[j]))\n",
    "        return m\n",
    "\n",
    "    def sublist(self):\n",
    "        s = []\n",
    "        for i in range(self.n):\n",
    "            for j in range(i+1):\n",
    "                s.append((\n",
    "                    self.species[i]*self.species[j], \n",
    "                    var(\"m_\" + self.names[i] + self.names[j]))\n",
    "                )\n",
    "        for i in range(self.n): # Note first moments come last so that second moments \n",
    "                                # are substituted first\n",
    "            s.append((\n",
    "                self.species[i],\n",
    "                var(\"m_\" + self.names[i]))\n",
    "            )\n",
    "        return s\n",
    "\n",
    "    def first_power_vector(self,i):\n",
    "        return [ (1 if i == j else 0) for j in range(self.n)]\n",
    "\n",
    "    def second_power_vector(self,i,j):\n",
    "        v = [0 for i in range(self.n)]\n",
    "        v[i] += 1\n",
    "        v[j] += 1\n",
    "        return v\n",
    "\n",
    "    def moment(self,powers):\n",
    "        def f(species):\n",
    "            terms = [s**p for s,p in zip(species,powers)]\n",
    "            return reduce((lambda x, y: x * y), terms)\n",
    "        return f\n",
    "\n",
    "    def next(self, rxn, state):\n",
    "        return Matrix(state) - Matrix(rxn[0]) + Matrix(rxn[1])\n",
    "    \n",
    "    def MAK(a):\n",
    "        \"\"\"The mass action kinetics rate for the reaction a [ ar, ap, k ].\n",
    "           syms should be a list of sympy symbols such as returned by var(\"x y z\")\"\"\"\n",
    "        rate = a[2] # k\n",
    "        for r,s in zip(a[0],self.species):\n",
    "            rate = rate * s**r\n",
    "        return rate    \n",
    "    \n",
    "    def extended_generator(self,f):\n",
    "        state = self.species # symbolic representation of the state\n",
    "        terms = [\n",
    "            (f(self.next(rxn, state)) - f(Matrix(state))) * self.MAK(rxn) \n",
    "            for rxn in self.rxns\n",
    "        ]\n",
    "        return sum(terms).simplify()\n",
    "\n",
    "    def first_moment_equations(self):\n",
    "        return [ \n",
    "            self.extended_generator(\n",
    "                self.moment(self.first_power_vector(i))\n",
    "            ).subs(self.sublist()) \n",
    "            for i in range(self.n) \n",
    "        ]\n",
    "\n",
    "    def second_moment_equations(self):\n",
    "        eqns = []\n",
    "        for i in range(self.n):\n",
    "            for j in range(i+1):\n",
    "                eqns.append(\n",
    "                    self.extended_generator(\n",
    "                        self.moment(self.second_power_vector(i,j))\n",
    "                    ).subs(self.sublist())                 \n",
    "                )\n",
    "        return eqns\n",
    "\n",
    "    def moment_equations(self):\n",
    "        return Matrix(self.first_moment_equations() + self.second_moment_equations())\n",
    "\n",
    "    def moment_odes(self,params):\n",
    "        eqns = self.moment_equations()\n",
    "        eqns = [eqn.subs(params) for eqn in eqns]\n",
    "        dmdt = lambdify([self.m], eqns, 'numpy')\n",
    "        def f(x,t):\n",
    "            return dmdt(x)\n",
    "        return f\n",
    "    \n",
    "    def next_states(self,state,params=[]):\n",
    "        return [(self.next(rxn,state),MAK(rxn,state).subs(params)) for rxn in self.rxns if MAK(rxn,state).subs(params) > 0]\n",
    "    \n",
    "    def total_rate_out(self,state,params=[]):\n",
    "        ns = self.next_states(state,params)\n",
    "        return sum([k[1] for k in ns])\n",
    "    \n",
    "    def choose_next(self,state,params):\n",
    "        ns = self.next_states(state,params)\n",
    "        r = self.total_rate_out(state,params) * np.random.random()\n",
    "        i = 0\n",
    "        s = ns[0][1]\n",
    "        while r > s:\n",
    "            i = i + 1\n",
    "            s = s + ns[i][1]\n",
    "        return ns[i][0]\n",
    "    \n",
    "    def choose_time(self,state,params):\n",
    "        K = self.total_rate_out(state,params)\n",
    "        r = np.random.random()\n",
    "        return (1/K) * log(1/(1-r))\n",
    "    \n",
    "    def ssa(self,x0,tmax,params):\n",
    "        x = x0\n",
    "        t = 0\n",
    "        xdata = [x0]\n",
    "        tdata = [t]\n",
    "        while t < tmax and len(self.next_states(x,params)) > 0:\n",
    "            xnew = self.choose_next(x,params)\n",
    "            dt = self.choose_time(x,params)\n",
    "            x = xnew\n",
    "            t = t + dt\n",
    "            xdata.append(x)\n",
    "            tdata.append(t)\n",
    "        return np.array(tdata),np.array(xdata) \n",
    "        "
   ]
  },
  {
   "cell_type": "markdown",
   "metadata": {},
   "source": [
    "# Example"
   ]
  },
  {
   "cell_type": "code",
   "execution_count": 460,
   "metadata": {},
   "outputs": [
    {
     "data": {
      "text/latex": [
       "$$\\left[\\begin{matrix}k_{1} - k_{2} m_{R}\\\\k_{3} m_{R} - k_{4} m_{P}\\\\2 k_{1} m_{R} + k_{1} + k_{2} m_{R} - 2 k_{2} m_{RR}\\\\k_{1} m_{P} - k_{2} m_{PR} + k_{3} m_{RR} - k_{4} m_{PR}\\\\2 k_{3} m_{PR} + k_{3} m_{R} + k_{4} m_{P} - 2 k_{4} m_{PP}\\end{matrix}\\right]$$"
      ],
      "text/plain": [
       "⎡              k₁ - k₂⋅m_R              ⎤\n",
       "⎢                                       ⎥\n",
       "⎢            k₃⋅m_R - k₄⋅m_P            ⎥\n",
       "⎢                                       ⎥\n",
       "⎢  2⋅k₁⋅m_R + k₁ + k₂⋅m_R - 2⋅k₂⋅m_RR   ⎥\n",
       "⎢                                       ⎥\n",
       "⎢ k₁⋅m_P - k₂⋅m_PR + k₃⋅m_RR - k₄⋅m_PR  ⎥\n",
       "⎢                                       ⎥\n",
       "⎣2⋅k₃⋅m_PR + k₃⋅m_R + k₄⋅m_P - 2⋅k₄⋅m_PP⎦"
      ]
     },
     "execution_count": 460,
     "metadata": {},
     "output_type": "execute_result"
    }
   ],
   "source": [
    "system = ReactionNetwork([\"R\", \"P\"])\n",
    "params = var(\"k1 k2 k3 k4\")\n",
    "params = [ (k1,4), (k2,0.25), (k3,1), (k4,0.1) ]\n",
    "v = system.make_vectorizer()\n",
    "\n",
    "system.rxns = [   \n",
    "    [v(), v(R), k1],           # 0 -> R\n",
    "    [v(R), v(), k2],           # R -> 0\n",
    "    [v(R), v(R,P), k3],        # R -> R + P\n",
    "    [v(P), v(), k4]            # P -> 0 \n",
    "]\n",
    "\n",
    "eqns = system.moment_equations()\n",
    "eqns"
   ]
  },
  {
   "cell_type": "code",
   "execution_count": 461,
   "metadata": {},
   "outputs": [
    {
     "data": {
      "text/latex": [
       "$$\\left \\{ m_{P} : \\frac{k_{1} k_{3}}{k_{2} k_{4}}, \\quad m_{PP} : \\frac{k_{1} k_{3}}{k_{2}^{2} k_{4}^{2} \\left(k_{2} + k_{4}\\right)} \\left(k_{1} k_{2} k_{3} + k_{1} k_{3} k_{4} + k_{2}^{2} k_{4} + k_{2} k_{3} k_{4} + k_{2} k_{4}^{2}\\right), \\quad m_{PR} : \\frac{k_{1} k_{3} \\left(k_{1} k_{2} + k_{1} k_{4} + k_{2} k_{4}\\right)}{k_{2}^{2} k_{4} \\left(k_{2} + k_{4}\\right)}, \\quad m_{R} : \\frac{k_{1}}{k_{2}}, \\quad m_{RR} : \\frac{k_{1}}{k_{2}^{2}} \\left(k_{1} + k_{2}\\right)\\right \\}$$"
      ],
      "text/plain": [
       "⎧                        ⎛                        2                      2⎞   \n",
       "⎪     k₁⋅k₃        k₁⋅k₃⋅⎝k₁⋅k₂⋅k₃ + k₁⋅k₃⋅k₄ + k₂ ⋅k₄ + k₂⋅k₃⋅k₄ + k₂⋅k₄ ⎠   \n",
       "⎨m_P: ─────, m_PP: ────────────────────────────────────────────────────────, m\n",
       "⎪     k₂⋅k₄                             2   2                                 \n",
       "⎩                                     k₂ ⋅k₄ ⋅(k₂ + k₄)                       \n",
       "\n",
       "                                                               ⎫\n",
       "     k₁⋅k₃⋅(k₁⋅k₂ + k₁⋅k₄ + k₂⋅k₄)       k₁        k₁⋅(k₁ + k₂)⎪\n",
       "_PR: ─────────────────────────────, m_R: ──, m_RR: ────────────⎬\n",
       "              2                          k₂              2     ⎪\n",
       "            k₂ ⋅k₄⋅(k₂ + k₄)                           k₂      ⎭"
      ]
     },
     "execution_count": 461,
     "metadata": {},
     "output_type": "execute_result"
    }
   ],
   "source": [
    "equilibrium = solve(eqns,system.m)\n",
    "equilibrium"
   ]
  },
  {
   "cell_type": "code",
   "execution_count": 462,
   "metadata": {},
   "outputs": [
    {
     "data": {
      "text/latex": [
       "$$\\left[\\begin{matrix}16.0\\\\160.0\\\\272.0\\\\2605.71428571429\\\\26217.1428571429\\end{matrix}\\right]$$"
      ],
      "text/plain": [
       "⎡      16.0      ⎤\n",
       "⎢                ⎥\n",
       "⎢     160.0      ⎥\n",
       "⎢                ⎥\n",
       "⎢     272.0      ⎥\n",
       "⎢                ⎥\n",
       "⎢2605.71428571429⎥\n",
       "⎢                ⎥\n",
       "⎣26217.1428571429⎦"
      ]
     },
     "execution_count": 462,
     "metadata": {},
     "output_type": "execute_result"
    }
   ],
   "source": [
    "eq = Matrix(system.m).subs(equilibrium).subs(params)\n",
    "eq"
   ]
  },
  {
   "cell_type": "code",
   "execution_count": 463,
   "metadata": {},
   "outputs": [
    {
     "data": {
      "text/latex": [
       "$$\\left ( \\frac{k_{1}}{k_{2}}, \\quad \\frac{k_{1}}{k_{2}}\\right )$$"
      ],
      "text/plain": [
       "⎛k₁  k₁⎞\n",
       "⎜──, ──⎟\n",
       "⎝k₂  k₂⎠"
      ]
     },
     "execution_count": 463,
     "metadata": {},
     "output_type": "execute_result"
    }
   ],
   "source": [
    "m_R.subs(equilibrium).simplify(), (m_RR - m_R**2).subs(equilibrium).simplify()"
   ]
  },
  {
   "cell_type": "code",
   "execution_count": 464,
   "metadata": {},
   "outputs": [
    {
     "data": {
      "text/latex": [
       "$$\\left ( \\frac{k_{1} k_{3}}{k_{2} k_{4}}, \\quad \\frac{k_{1} k_{3} \\left(k_{2} + k_{3} + k_{4}\\right)}{k_{2} k_{4} \\left(k_{2} + k_{4}\\right)}\\right )$$"
      ],
      "text/plain": [
       "⎛k₁⋅k₃  k₁⋅k₃⋅(k₂ + k₃ + k₄)⎞\n",
       "⎜─────, ────────────────────⎟\n",
       "⎝k₂⋅k₄    k₂⋅k₄⋅(k₂ + k₄)   ⎠"
      ]
     },
     "execution_count": 464,
     "metadata": {},
     "output_type": "execute_result"
    }
   ],
   "source": [
    "m_P.subs(equilibrium).simplify(), (m_PP - m_P**2).subs(equilibrium).simplify()"
   ]
  },
  {
   "cell_type": "code",
   "execution_count": 465,
   "metadata": {},
   "outputs": [
    {
     "data": {
      "image/png": "[encoded data removed]",
      "text/plain": [
       "<Figure size 1080x360 with 2 Axes>"
      ]
     },
     "metadata": {},
     "output_type": "display_data"
    }
   ],
   "source": [
    "dmdt = system.moment_odes(params)\n",
    "tmax = 30\n",
    "t = np.linspace(0,tmax,100)\n",
    "m0 = [0,0,0,0,0]\n",
    "m = spi.odeint(dmdt,m0,t)\n",
    "\n",
    "rstdev = np.sqrt(m[:,2]-m[:,0]**2)\n",
    "pstdev = np.sqrt(m[:,4]-m[:,1]**2)\n",
    "\n",
    "ssa_t,ssa_x = system.ssa([0,0],tmax,params)\n",
    "\n",
    "fig,ax = plt.subplots(1,2,figsize=(15,5))\n",
    "\n",
    "ax[0].plot(t,m[:,0],label=\"RNA\")\n",
    "ax[0].step(ssa_t,ssa_x[:,0],color=\"blue\")\n",
    "ax[0].fill_between(t,m[:,0] - rstdev,m[:,0] + rstdev,color=\"lightblue\");\n",
    "ax[0].set_xlabel(\"$t$\")\n",
    "\n",
    "ax[1].plot(t,m[:,1],label=\"Protein\",color=\"orange\")\n",
    "ax[1].step(ssa_t,ssa_x[:,1],color=\"orange\")\n",
    "ax[1].fill_between(t,m[:,1] - pstdev,m[:,1] + pstdev,color=\"bisque\");\n",
    "ax[1].set_xlabel(\"$t$\")\n",
    "\n",
    "ax[0].legend();\n",
    "ax[1].legend();"
   ]
  },
  {
   "cell_type": "code",
   "execution_count": 466,
   "metadata": {},
   "outputs": [
    {
     "data": {
      "text/latex": [
       "$$\\left [ \\left ( \\left[\\begin{matrix}51\\\\0\\end{matrix}\\right], \\quad 4\\right ), \\quad \\left ( \\left[\\begin{matrix}49\\\\0\\end{matrix}\\right], \\quad 12.5\\right ), \\quad \\left ( \\left[\\begin{matrix}50\\\\1\\end{matrix}\\right], \\quad 50\\right )\\right ]$$"
      ],
      "text/plain": [
       "⎡⎛⎡51⎤, 4⎞, ⎛⎡49⎤, 12.5⎞, ⎛⎡50⎤, 50⎞⎤\n",
       "⎢⎜⎢  ⎥   ⎟  ⎜⎢  ⎥      ⎟  ⎜⎢  ⎥    ⎟⎥\n",
       "⎣⎝⎣0 ⎦   ⎠  ⎝⎣0 ⎦      ⎠  ⎝⎣1 ⎦    ⎠⎦"
      ]
     },
     "execution_count": 466,
     "metadata": {},
     "output_type": "execute_result"
    }
   ],
   "source": [
    "system.next_states([50,0],params)"
   ]
  },
  {
   "cell_type": "code",
   "execution_count": 467,
   "metadata": {},
   "outputs": [
    {
     "data": {
      "text/latex": [
       "$$66.5$$"
      ],
      "text/plain": [
       "66.5000000000000"
      ]
     },
     "execution_count": 467,
     "metadata": {},
     "output_type": "execute_result"
    }
   ],
   "source": [
    "system.total_rate_out([50,0],params)"
   ]
  },
  {
   "cell_type": "code",
   "execution_count": 468,
   "metadata": {},
   "outputs": [
    {
     "data": {
      "text/latex": [
       "$$\\left [ \\left[\\begin{matrix}50\\\\1\\end{matrix}\\right], \\quad \\left[\\begin{matrix}49\\\\0\\end{matrix}\\right], \\quad \\left[\\begin{matrix}49\\\\0\\end{matrix}\\right], \\quad \\left[\\begin{matrix}50\\\\1\\end{matrix}\\right], \\quad \\left[\\begin{matrix}50\\\\1\\end{matrix}\\right], \\quad \\left[\\begin{matrix}50\\\\1\\end{matrix}\\right], \\quad \\left[\\begin{matrix}50\\\\1\\end{matrix}\\right], \\quad \\left[\\begin{matrix}50\\\\1\\end{matrix}\\right], \\quad \\left[\\begin{matrix}50\\\\1\\end{matrix}\\right], \\quad \\left[\\begin{matrix}50\\\\1\\end{matrix}\\right]\\right ]$$"
      ],
      "text/plain": [
       "⎡⎡50⎤, ⎡49⎤, ⎡49⎤, ⎡50⎤, ⎡50⎤, ⎡50⎤, ⎡50⎤, ⎡50⎤, ⎡50⎤, ⎡50⎤⎤\n",
       "⎢⎢  ⎥  ⎢  ⎥  ⎢  ⎥  ⎢  ⎥  ⎢  ⎥  ⎢  ⎥  ⎢  ⎥  ⎢  ⎥  ⎢  ⎥  ⎢  ⎥⎥\n",
       "⎣⎣1 ⎦  ⎣0 ⎦  ⎣0 ⎦  ⎣1 ⎦  ⎣1 ⎦  ⎣1 ⎦  ⎣1 ⎦  ⎣1 ⎦  ⎣1 ⎦  ⎣1 ⎦⎦"
      ]
     },
     "execution_count": 468,
     "metadata": {},
     "output_type": "execute_result"
    }
   ],
   "source": [
    "[system.choose_next([50,0],params) for i in range(10)]"
   ]
  },
  {
   "cell_type": "code",
   "execution_count": 469,
   "metadata": {},
   "outputs": [
    {
     "data": {
      "image/png": "[encoded data removed]",
      "text/plain": [
       "<Figure size 432x288 with 1 Axes>"
      ]
     },
     "metadata": {},
     "output_type": "display_data"
    }
   ],
   "source": [
    "t,x = system.ssa([0,0],30,params)\n",
    "plt.step(t,x);"
   ]
  },
  {
   "cell_type": "markdown",
   "metadata": {},
   "source": [
    "# Enzyme Kinetics"
   ]
  },
  {
   "cell_type": "code",
   "execution_count": 542,
   "metadata": {},
   "outputs": [],
   "source": [
    "system = ReactionNetwork([\"E\", \"S\", \"X\", \"P\"])\n",
    "params = var(\"k1 k2 k3\")\n",
    "params = [ (k1,1), (k2,0.5), (k3,.1) ]\n",
    "v = system.make_vectorizer()\n",
    "\n",
    "system.rxns = [   \n",
    "    [v(E,S), v(X), k1], \n",
    "    [v(X), v(E,S), k2],      \n",
    "    [v(X), v(E,P), k3]\n",
    "]"
   ]
  },
  {
   "cell_type": "code",
   "execution_count": 541,
   "metadata": {},
   "outputs": [
    {
     "data": {
      "image/png": "[encoded data removed]",
      "text/plain": [
       "<Figure size 432x288 with 1 Axes>"
      ]
     },
     "metadata": {},
     "output_type": "display_data"
    }
   ],
   "source": [
    "for i in range(40):\n",
    "    ssa_t,ssa_x = system.ssa([2,10,0,0],140,params)\n",
    "    ssa_t = np.append(ssa_t,140)\n",
    "    ssa_x = np.append(ssa_x,[[2,0,0,10]],axis=0)\n",
    "    plt.step(ssa_t, ssa_x[:,3]);"
   ]
  },
  {
   "cell_type": "markdown",
   "metadata": {},
   "source": [
    "# Multiplication"
   ]
  },
  {
   "cell_type": "code",
   "execution_count": 549,
   "metadata": {},
   "outputs": [
    {
     "data": {
      "text/latex": [
       "$$\\left [ S_{0}, \\quad S_{1}, \\quad S_{2}, \\quad S_{3}, \\quad S_{4}, \\quad S_{5}, \\quad S_{6}, \\quad S_{7}, \\quad S_{8}, \\quad R_{0}, \\quad R_{1}, \\quad R_{2}\\right ]$$"
      ],
      "text/plain": [
       "[S₀, S₁, S₂, S₃, S₄, S₅, S₆, S₇, S₈, R₀, R₁, R₂]"
      ]
     },
     "execution_count": 549,
     "metadata": {},
     "output_type": "execute_result"
    }
   ],
   "source": [
    "multiplier = ReactionNetwork([\n",
    "    \"S0\", \"S1\", \"S2\", \"S3\", \"S4\", \"S5\", \"S6\", \"S7\", \"S8\", \n",
    "    \"R0\", \"R1\", \"R2\"\n",
    "])\n",
    "\n",
    "params = var(\"k e\")\n",
    "params = [ (k,1), (e,0.01) ]\n",
    "\n",
    "multiplier.species"
   ]
  },
  {
   "cell_type": "code",
   "execution_count": null,
   "metadata": {
    "collapsed": true
   },
   "outputs": [],
   "source": [
    "v = multiplier.make_vectorizer()\n",
    "\n",
    "multiplier.rxns = [\n",
    "    [v(S0,R0), v(S1), k],    # dec(0,0,1,8)\n",
    "    [v(S0),    v(S8), e],    \n",
    "    [v(S1,R1), v(S2), k],    # dec(1,1,2,4)\n",
    "    [v(S1),    v(S4), e],         \n",
    "]"
   ]
  }
 ],
 "metadata": {
  "kernelspec": {
   "display_name": "Python 3",
   "language": "python",
   "name": "python3"
  },
  "language_info": {
   "codemirror_mode": {
    "name": "ipython",
    "version": 3
   },
   "file_extension": ".py",
   "mimetype": "text/x-python",
   "name": "python",
   "nbconvert_exporter": "python",
   "pygments_lexer": "ipython3",
   "version": "3.6.1"
  }
 },
 "nbformat": 4,
 "nbformat_minor": 2
}
