{
 "cells": [
  {
   "cell_type": "markdown",
   "metadata": {},
   "source": [
    "ECE 424: Advanced Synthetic Biology: Introduction\n",
    "===\n",
    "\n",
    "Prof. Eric Klavins\n",
    "\n",
    "&copy; 2019, University of Washington"
   ]
  },
  {
   "cell_type": "markdown",
   "metadata": {},
   "source": [
    "**Course Description**: An overview of advanced computational, analytical, and design methods in synthetic biology. This course is a deep dive into selected topics rather than a broad overview. Specific topics include:\n",
    "- Python\n",
    "- Protein modeling and design\n",
    "- Nucleic acid design\n",
    "- High throughput assay design and analysis\n",
    "- Neural networks for analysis and design\n",
    "- Library design (DNA, Protein, Yeast)\n",
    "- The use of next generation sequencing in synthetic biology\n",
    "- Design and analysis of gene regulatory networks\n",
    "- Laboratory Automation\n",
    "- Ethics and risks of synthetic biology\n",
    "\n",
    "**Format**: Weekly readings and Python programming assignments. In class discussion. \n",
    "\n",
    "**Office Hours**: In NanoES 394. Times TBA.\n",
    "\n",
    "**Note:** <b><span style=\"color: orange\">No class April 4</span></b>\n",
    "\n",
    "**Assumed Background**: Introduction to synthetic biology course or similar. "
   ]
  },
  {
   "cell_type": "markdown",
   "metadata": {},
   "source": [
    "Overview of Topics\n",
    "===\n",
    "\n",
    "Protein Modeling and Design\n",
    "---\n",
    "\n",
    "Proteins have been designed to be transcription factors, drugs, vaccines, sensors, and more. We will learn\n",
    "- How proteins are represented in PDB files\n",
    "- How manipulate an *in silico* model of a protein\n",
    "- How to predict a protein's free energy using Rosetta\n",
    "- How to use neural networks to predict protein properties\n",
    "\n",
    "<img src=\"https://raw.githubusercontent.com/klavins/ECE424/master/images/protein-modeling.png\">\n",
    "\n",
    "Protein Stability\n",
    "---\n",
    "\n",
    "Protein stability is important for synthetic proteins. An unstable protein drug, for example, may not last long in a host environment. Protein stability can be estimated with software and measured using experimental methods. We will learn:\n",
    "- How protein stability can be estimated using yeast surface display, cell sorting, and NGS\n",
    "\n",
    "<img src=\"https://raw.githubusercontent.com/klavins/ECE424/master/images/protein-stability.jpg\">\n",
    "\n",
    "\n",
    "DNA Library Synthesis\n",
    "---\n",
    "\n",
    "Synthetic biology is based on incomplete models of how DNA, RNA, proteins, and cells behave. The best methods do coarse grained design based on models and fine grained tuning by creating large libraries of variants and screening them experimentally. We will learn:\n",
    "- How oligo libraries are designed and constructed\n",
    "- How oligo libraries are used to make genetic variants in yeast\n",
    "\n",
    "<img width=50% src=\"https://raw.githubusercontent.com/klavins/ECE424/master/images/gene-chip.png\">\n",
    "\n",
    "Next Generation Sequencing\n",
    "---\n",
    "\n",
    "Large variant libraries are often characterized by applying a challenge of some sort and then sequencing the cells that made it through to associated sequence with performance (i.e. the number of reads). We will learn:\n",
    "- How to process NGS data from variant libraries\n",
    "- How to use machine learning to learn sequence to performance relationships\n",
    "\n",
    "Gene Regulatory Network Design and Analysis\n",
    "---\n",
    "\n",
    "One of the long term goals of synthetic biology is to create gene regulatory networks that compute. We will discuss a variety of ways in which cells can compute user-defined functions and how to analyze them. You will learn\n",
    "- To model networks\n",
    "- To simulate networks in Python\n",
    "- To analyze networks mathematically for stability and other behaviors\n",
    "\n",
    "<img width=50% src=\"https://raw.githubusercontent.com/klavins/ECE424/master/images/gene-network.jpg\">\n",
    "\n",
    "Laboratory Automation\n",
    "---\n",
    "\n",
    "In the future robots will do all the lab work for you. You will learn\n",
    "- The state of the art in lab automation\n",
    "- To program the UW BIOFAB with the Aquarium software\n",
    "\n",
    "<img width=50% src=\"https://raw.githubusercontent.com/klavins/ECE424/master/images/lab-automation.jpg\">\n",
    "\n",
    "\n",
    "Ethics and Risks\n",
    "---\n",
    "\n",
    "Designing new biomolecular and cellular systems is redefining what kinds of life exist on our planet, and what it means to be human. Recent results in CRISPR editing point to a speciation event. Are you ready for your grandchildren to co-exist with *homo synthetica*? We will learn\n",
    "- Ethical frameworks for deciding *what* to engineer\n",
    "- The risks associated with introducing new genetic material into the world\n"
   ]
  },
  {
   "cell_type": "code",
   "execution_count": null,
   "metadata": {
    "collapsed": true
   },
   "outputs": [],
   "source": []
  }
 ],
 "metadata": {
  "kernelspec": {
   "display_name": "Python 3",
   "language": "python",
   "name": "python3"
  },
  "language_info": {
   "codemirror_mode": {
    "name": "ipython",
    "version": 3
   },
   "file_extension": ".py",
   "mimetype": "text/x-python",
   "name": "python",
   "nbconvert_exporter": "python",
   "pygments_lexer": "ipython3",
   "version": "3.6.1"
  }
 },
 "nbformat": 4,
 "nbformat_minor": 2
}
